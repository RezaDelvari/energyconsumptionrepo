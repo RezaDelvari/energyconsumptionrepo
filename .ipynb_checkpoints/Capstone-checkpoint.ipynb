{
 "cells": [
  {
   "cell_type": "code",
   "execution_count": 134,
   "id": "3ae4af80",
   "metadata": {},
   "outputs": [],
   "source": [
    "import pandas as pd\n",
    "import numpy as np\n",
    "import matplotlib.pyplot as plt\n",
    "import seaborn as sns\n",
    "import plotly.express as px\n",
    "from statsmodels.api import tsa # time series analysis\n",
    "import statsmodels.api as sm\n",
    "import matplotlib as mpl\n",
    "from statsmodels.tsa.stattools import grangercausalitytests\n",
    "from statsmodels.tsa.stattools import adfuller\n",
    "import statsmodels.api as sm\n",
    "from statsmodels.tsa.api import VAR\n",
    "import warnings\n",
    "# Filter out specific ValueWarnings from statsmodels\n",
    "warnings.filterwarnings(\"ignore\")"
   ]
  },
  {
   "cell_type": "code",
   "execution_count": 3,
   "id": "2c33da14",
   "metadata": {},
   "outputs": [],
   "source": [
    "df_client = pd.read_csv(r\"C:\\Users\\mrdel\\Desktop\\BootCamp\\Capstone Project\\Capstone Datasets\\predict-energy-behavior-of-prosumers\\client.csv\")"
   ]
  },
  {
   "cell_type": "code",
   "execution_count": 4,
   "id": "c0a31512",
   "metadata": {},
   "outputs": [
    {
     "data": {
      "text/html": [
       "<div>\n",
       "<style scoped>\n",
       "    .dataframe tbody tr th:only-of-type {\n",
       "        vertical-align: middle;\n",
       "    }\n",
       "\n",
       "    .dataframe tbody tr th {\n",
       "        vertical-align: top;\n",
       "    }\n",
       "\n",
       "    .dataframe thead th {\n",
       "        text-align: right;\n",
       "    }\n",
       "</style>\n",
       "<table border=\"1\" class=\"dataframe\">\n",
       "  <thead>\n",
       "    <tr style=\"text-align: right;\">\n",
       "      <th></th>\n",
       "      <th>product_type</th>\n",
       "      <th>county</th>\n",
       "      <th>eic_count</th>\n",
       "      <th>installed_capacity</th>\n",
       "      <th>is_business</th>\n",
       "      <th>date</th>\n",
       "      <th>data_block_id</th>\n",
       "    </tr>\n",
       "  </thead>\n",
       "  <tbody>\n",
       "    <tr>\n",
       "      <th>0</th>\n",
       "      <td>1</td>\n",
       "      <td>0</td>\n",
       "      <td>108</td>\n",
       "      <td>952.89</td>\n",
       "      <td>0</td>\n",
       "      <td>2021-09-01</td>\n",
       "      <td>2</td>\n",
       "    </tr>\n",
       "    <tr>\n",
       "      <th>1</th>\n",
       "      <td>2</td>\n",
       "      <td>0</td>\n",
       "      <td>17</td>\n",
       "      <td>166.40</td>\n",
       "      <td>0</td>\n",
       "      <td>2021-09-01</td>\n",
       "      <td>2</td>\n",
       "    </tr>\n",
       "    <tr>\n",
       "      <th>2</th>\n",
       "      <td>3</td>\n",
       "      <td>0</td>\n",
       "      <td>688</td>\n",
       "      <td>7207.88</td>\n",
       "      <td>0</td>\n",
       "      <td>2021-09-01</td>\n",
       "      <td>2</td>\n",
       "    </tr>\n",
       "    <tr>\n",
       "      <th>3</th>\n",
       "      <td>0</td>\n",
       "      <td>0</td>\n",
       "      <td>5</td>\n",
       "      <td>400.00</td>\n",
       "      <td>1</td>\n",
       "      <td>2021-09-01</td>\n",
       "      <td>2</td>\n",
       "    </tr>\n",
       "    <tr>\n",
       "      <th>4</th>\n",
       "      <td>1</td>\n",
       "      <td>0</td>\n",
       "      <td>43</td>\n",
       "      <td>1411.00</td>\n",
       "      <td>1</td>\n",
       "      <td>2021-09-01</td>\n",
       "      <td>2</td>\n",
       "    </tr>\n",
       "  </tbody>\n",
       "</table>\n",
       "</div>"
      ],
      "text/plain": [
       "   product_type  county  eic_count  ...  is_business        date data_block_id\n",
       "0             1       0        108  ...            0  2021-09-01             2\n",
       "1             2       0         17  ...            0  2021-09-01             2\n",
       "2             3       0        688  ...            0  2021-09-01             2\n",
       "3             0       0          5  ...            1  2021-09-01             2\n",
       "4             1       0         43  ...            1  2021-09-01             2\n",
       "\n",
       "[5 rows x 7 columns]"
      ]
     },
     "execution_count": 4,
     "metadata": {},
     "output_type": "execute_result"
    }
   ],
   "source": [
    "df_client.head()"
   ]
  },
  {
   "cell_type": "code",
   "execution_count": 5,
   "id": "51d27d95",
   "metadata": {},
   "outputs": [
    {
     "name": "stdout",
     "output_type": "stream",
     "text": [
      "<class 'pandas.core.frame.DataFrame'>\n",
      "RangeIndex: 41919 entries, 0 to 41918\n",
      "Data columns (total 7 columns):\n",
      " #   Column              Non-Null Count  Dtype  \n",
      "---  ------              --------------  -----  \n",
      " 0   product_type        41919 non-null  int64  \n",
      " 1   county              41919 non-null  int64  \n",
      " 2   eic_count           41919 non-null  int64  \n",
      " 3   installed_capacity  41919 non-null  float64\n",
      " 4   is_business         41919 non-null  int64  \n",
      " 5   date                41919 non-null  object \n",
      " 6   data_block_id       41919 non-null  int64  \n",
      "dtypes: float64(1), int64(5), object(1)\n",
      "memory usage: 2.2+ MB\n"
     ]
    }
   ],
   "source": [
    "df_client.info()"
   ]
  },
  {
   "cell_type": "code",
   "execution_count": 6,
   "id": "19f3836f",
   "metadata": {},
   "outputs": [],
   "source": [
    "# As date column is object, it nedds to be converted\n",
    "df_client['date'] = pd.to_datetime(df_client['date'])"
   ]
  },
  {
   "cell_type": "code",
   "execution_count": 7,
   "id": "fe15bd1f",
   "metadata": {},
   "outputs": [
    {
     "name": "stdout",
     "output_type": "stream",
     "text": [
      "<class 'pandas.core.frame.DataFrame'>\n",
      "RangeIndex: 41919 entries, 0 to 41918\n",
      "Data columns (total 7 columns):\n",
      " #   Column              Non-Null Count  Dtype         \n",
      "---  ------              --------------  -----         \n",
      " 0   product_type        41919 non-null  int64         \n",
      " 1   county              41919 non-null  int64         \n",
      " 2   eic_count           41919 non-null  int64         \n",
      " 3   installed_capacity  41919 non-null  float64       \n",
      " 4   is_business         41919 non-null  int64         \n",
      " 5   date                41919 non-null  datetime64[ns]\n",
      " 6   data_block_id       41919 non-null  int64         \n",
      "dtypes: datetime64[ns](1), float64(1), int64(5)\n",
      "memory usage: 2.2 MB\n"
     ]
    }
   ],
   "source": [
    "df_client.info()"
   ]
  },
  {
   "cell_type": "code",
   "execution_count": 8,
   "id": "37adbd5c",
   "metadata": {
    "scrolled": true
   },
   "outputs": [
    {
     "data": {
      "text/plain": [
       "product_type          0\n",
       "county                0\n",
       "eic_count             0\n",
       "installed_capacity    0\n",
       "is_business           0\n",
       "date                  0\n",
       "data_block_id         0\n",
       "dtype: int64"
      ]
     },
     "execution_count": 8,
     "metadata": {},
     "output_type": "execute_result"
    }
   ],
   "source": [
    "df_client.isna().sum()"
   ]
  },
  {
   "cell_type": "code",
   "execution_count": 9,
   "id": "4d1a278e",
   "metadata": {},
   "outputs": [
    {
     "data": {
      "text/plain": [
       "False"
      ]
     },
     "execution_count": 9,
     "metadata": {},
     "output_type": "execute_result"
    }
   ],
   "source": [
    "df_client.duplicated().any(axis=0)"
   ]
  },
  {
   "cell_type": "code",
   "execution_count": 10,
   "id": "996d3fba",
   "metadata": {},
   "outputs": [],
   "source": [
    "df_hisweather = pd.read_csv(r\"C:\\Users\\mrdel\\Desktop\\BootCamp\\Capstone Project\\Capstone Datasets\\predict-energy-behavior-of-prosumers\\historical_weather.csv\")"
   ]
  },
  {
   "cell_type": "code",
   "execution_count": 11,
   "id": "43155795",
   "metadata": {
    "scrolled": true
   },
   "outputs": [
    {
     "data": {
      "text/html": [
       "<div>\n",
       "<style scoped>\n",
       "    .dataframe tbody tr th:only-of-type {\n",
       "        vertical-align: middle;\n",
       "    }\n",
       "\n",
       "    .dataframe tbody tr th {\n",
       "        vertical-align: top;\n",
       "    }\n",
       "\n",
       "    .dataframe thead th {\n",
       "        text-align: right;\n",
       "    }\n",
       "</style>\n",
       "<table border=\"1\" class=\"dataframe\">\n",
       "  <thead>\n",
       "    <tr style=\"text-align: right;\">\n",
       "      <th></th>\n",
       "      <th>datetime</th>\n",
       "      <th>temperature</th>\n",
       "      <th>dewpoint</th>\n",
       "      <th>rain</th>\n",
       "      <th>snowfall</th>\n",
       "      <th>surface_pressure</th>\n",
       "      <th>cloudcover_total</th>\n",
       "      <th>cloudcover_low</th>\n",
       "      <th>cloudcover_mid</th>\n",
       "      <th>cloudcover_high</th>\n",
       "      <th>windspeed_10m</th>\n",
       "      <th>winddirection_10m</th>\n",
       "      <th>shortwave_radiation</th>\n",
       "      <th>direct_solar_radiation</th>\n",
       "      <th>diffuse_radiation</th>\n",
       "      <th>latitude</th>\n",
       "      <th>longitude</th>\n",
       "      <th>data_block_id</th>\n",
       "    </tr>\n",
       "  </thead>\n",
       "  <tbody>\n",
       "    <tr>\n",
       "      <th>0</th>\n",
       "      <td>2021-09-01 00:00:00</td>\n",
       "      <td>14.4</td>\n",
       "      <td>12.0</td>\n",
       "      <td>0.0</td>\n",
       "      <td>0.0</td>\n",
       "      <td>1015.8</td>\n",
       "      <td>4</td>\n",
       "      <td>4</td>\n",
       "      <td>0</td>\n",
       "      <td>0</td>\n",
       "      <td>6.694444</td>\n",
       "      <td>3</td>\n",
       "      <td>0.0</td>\n",
       "      <td>0.0</td>\n",
       "      <td>0.0</td>\n",
       "      <td>57.6</td>\n",
       "      <td>21.7</td>\n",
       "      <td>1</td>\n",
       "    </tr>\n",
       "    <tr>\n",
       "      <th>1</th>\n",
       "      <td>2021-09-01 00:00:00</td>\n",
       "      <td>14.0</td>\n",
       "      <td>12.0</td>\n",
       "      <td>0.0</td>\n",
       "      <td>0.0</td>\n",
       "      <td>1010.6</td>\n",
       "      <td>7</td>\n",
       "      <td>8</td>\n",
       "      <td>0</td>\n",
       "      <td>0</td>\n",
       "      <td>4.944444</td>\n",
       "      <td>353</td>\n",
       "      <td>0.0</td>\n",
       "      <td>0.0</td>\n",
       "      <td>0.0</td>\n",
       "      <td>57.6</td>\n",
       "      <td>22.2</td>\n",
       "      <td>1</td>\n",
       "    </tr>\n",
       "    <tr>\n",
       "      <th>2</th>\n",
       "      <td>2021-09-01 00:00:00</td>\n",
       "      <td>14.4</td>\n",
       "      <td>12.8</td>\n",
       "      <td>0.0</td>\n",
       "      <td>0.0</td>\n",
       "      <td>1014.9</td>\n",
       "      <td>6</td>\n",
       "      <td>7</td>\n",
       "      <td>0</td>\n",
       "      <td>0</td>\n",
       "      <td>5.833333</td>\n",
       "      <td>348</td>\n",
       "      <td>0.0</td>\n",
       "      <td>0.0</td>\n",
       "      <td>0.0</td>\n",
       "      <td>57.6</td>\n",
       "      <td>22.7</td>\n",
       "      <td>1</td>\n",
       "    </tr>\n",
       "    <tr>\n",
       "      <th>3</th>\n",
       "      <td>2021-09-01 00:00:00</td>\n",
       "      <td>15.4</td>\n",
       "      <td>13.0</td>\n",
       "      <td>0.0</td>\n",
       "      <td>0.0</td>\n",
       "      <td>1014.4</td>\n",
       "      <td>4</td>\n",
       "      <td>2</td>\n",
       "      <td>4</td>\n",
       "      <td>0</td>\n",
       "      <td>7.111111</td>\n",
       "      <td>349</td>\n",
       "      <td>0.0</td>\n",
       "      <td>0.0</td>\n",
       "      <td>0.0</td>\n",
       "      <td>57.6</td>\n",
       "      <td>23.2</td>\n",
       "      <td>1</td>\n",
       "    </tr>\n",
       "    <tr>\n",
       "      <th>4</th>\n",
       "      <td>2021-09-01 00:00:00</td>\n",
       "      <td>15.9</td>\n",
       "      <td>12.6</td>\n",
       "      <td>0.0</td>\n",
       "      <td>0.0</td>\n",
       "      <td>1013.8</td>\n",
       "      <td>12</td>\n",
       "      <td>7</td>\n",
       "      <td>0</td>\n",
       "      <td>20</td>\n",
       "      <td>8.388889</td>\n",
       "      <td>360</td>\n",
       "      <td>0.0</td>\n",
       "      <td>0.0</td>\n",
       "      <td>0.0</td>\n",
       "      <td>57.6</td>\n",
       "      <td>23.7</td>\n",
       "      <td>1</td>\n",
       "    </tr>\n",
       "  </tbody>\n",
       "</table>\n",
       "</div>"
      ],
      "text/plain": [
       "              datetime  temperature  ...  longitude  data_block_id\n",
       "0  2021-09-01 00:00:00         14.4  ...       21.7              1\n",
       "1  2021-09-01 00:00:00         14.0  ...       22.2              1\n",
       "2  2021-09-01 00:00:00         14.4  ...       22.7              1\n",
       "3  2021-09-01 00:00:00         15.4  ...       23.2              1\n",
       "4  2021-09-01 00:00:00         15.9  ...       23.7              1\n",
       "\n",
       "[5 rows x 18 columns]"
      ]
     },
     "execution_count": 11,
     "metadata": {},
     "output_type": "execute_result"
    }
   ],
   "source": [
    "df_hisweather.head()"
   ]
  },
  {
   "cell_type": "code",
   "execution_count": 12,
   "id": "4c6eb85f",
   "metadata": {
    "scrolled": true
   },
   "outputs": [
    {
     "name": "stdout",
     "output_type": "stream",
     "text": [
      "<class 'pandas.core.frame.DataFrame'>\n",
      "RangeIndex: 1710800 entries, 0 to 1710799\n",
      "Data columns (total 18 columns):\n",
      " #   Column                  Dtype  \n",
      "---  ------                  -----  \n",
      " 0   datetime                object \n",
      " 1   temperature             float64\n",
      " 2   dewpoint                float64\n",
      " 3   rain                    float64\n",
      " 4   snowfall                float64\n",
      " 5   surface_pressure        float64\n",
      " 6   cloudcover_total        int64  \n",
      " 7   cloudcover_low          int64  \n",
      " 8   cloudcover_mid          int64  \n",
      " 9   cloudcover_high         int64  \n",
      " 10  windspeed_10m           float64\n",
      " 11  winddirection_10m       int64  \n",
      " 12  shortwave_radiation     float64\n",
      " 13  direct_solar_radiation  float64\n",
      " 14  diffuse_radiation       float64\n",
      " 15  latitude                float64\n",
      " 16  longitude               float64\n",
      " 17  data_block_id           int64  \n",
      "dtypes: float64(11), int64(6), object(1)\n",
      "memory usage: 234.9+ MB\n"
     ]
    }
   ],
   "source": [
    "df_hisweather.info()"
   ]
  },
  {
   "cell_type": "code",
   "execution_count": 13,
   "id": "fc72c676",
   "metadata": {},
   "outputs": [],
   "source": [
    "# As date column is object, it nedds to be converted\n",
    "df_hisweather['datetime'] = pd.to_datetime(df_hisweather['datetime'])"
   ]
  },
  {
   "cell_type": "code",
   "execution_count": 14,
   "id": "8b6e0ebf",
   "metadata": {},
   "outputs": [
    {
     "name": "stdout",
     "output_type": "stream",
     "text": [
      "<class 'pandas.core.frame.DataFrame'>\n",
      "RangeIndex: 1710800 entries, 0 to 1710799\n",
      "Data columns (total 18 columns):\n",
      " #   Column                  Dtype         \n",
      "---  ------                  -----         \n",
      " 0   datetime                datetime64[ns]\n",
      " 1   temperature             float64       \n",
      " 2   dewpoint                float64       \n",
      " 3   rain                    float64       \n",
      " 4   snowfall                float64       \n",
      " 5   surface_pressure        float64       \n",
      " 6   cloudcover_total        int64         \n",
      " 7   cloudcover_low          int64         \n",
      " 8   cloudcover_mid          int64         \n",
      " 9   cloudcover_high         int64         \n",
      " 10  windspeed_10m           float64       \n",
      " 11  winddirection_10m       int64         \n",
      " 12  shortwave_radiation     float64       \n",
      " 13  direct_solar_radiation  float64       \n",
      " 14  diffuse_radiation       float64       \n",
      " 15  latitude                float64       \n",
      " 16  longitude               float64       \n",
      " 17  data_block_id           int64         \n",
      "dtypes: datetime64[ns](1), float64(11), int64(6)\n",
      "memory usage: 234.9 MB\n"
     ]
    }
   ],
   "source": [
    "df_hisweather.info()"
   ]
  },
  {
   "cell_type": "code",
   "execution_count": 15,
   "id": "d11d6d21",
   "metadata": {},
   "outputs": [
    {
     "data": {
      "text/plain": [
       "datetime                  0\n",
       "temperature               0\n",
       "dewpoint                  0\n",
       "rain                      0\n",
       "snowfall                  0\n",
       "surface_pressure          0\n",
       "cloudcover_total          0\n",
       "cloudcover_low            0\n",
       "cloudcover_mid            0\n",
       "cloudcover_high           0\n",
       "windspeed_10m             0\n",
       "winddirection_10m         0\n",
       "shortwave_radiation       0\n",
       "direct_solar_radiation    0\n",
       "diffuse_radiation         0\n",
       "latitude                  0\n",
       "longitude                 0\n",
       "data_block_id             0\n",
       "dtype: int64"
      ]
     },
     "execution_count": 15,
     "metadata": {},
     "output_type": "execute_result"
    }
   ],
   "source": [
    "df_hisweather.isna().sum()"
   ]
  },
  {
   "cell_type": "code",
   "execution_count": 16,
   "id": "7919e5f0",
   "metadata": {},
   "outputs": [
    {
     "data": {
      "text/plain": [
       "False"
      ]
     },
     "execution_count": 16,
     "metadata": {},
     "output_type": "execute_result"
    }
   ],
   "source": [
    "df_hisweather.duplicated().any(axis=0)"
   ]
  },
  {
   "cell_type": "code",
   "execution_count": 67,
   "id": "782adea2",
   "metadata": {},
   "outputs": [],
   "source": [
    "df_train = pd.read_csv(r\"C:\\Users\\mrdel\\Desktop\\BootCamp\\Capstone Project\\Capstone Datasets\\predict-energy-behavior-of-prosumers\\train.csv\")"
   ]
  },
  {
   "cell_type": "code",
   "execution_count": 68,
   "id": "f6b7b71e",
   "metadata": {
    "scrolled": true
   },
   "outputs": [
    {
     "data": {
      "text/html": [
       "<div>\n",
       "<style scoped>\n",
       "    .dataframe tbody tr th:only-of-type {\n",
       "        vertical-align: middle;\n",
       "    }\n",
       "\n",
       "    .dataframe tbody tr th {\n",
       "        vertical-align: top;\n",
       "    }\n",
       "\n",
       "    .dataframe thead th {\n",
       "        text-align: right;\n",
       "    }\n",
       "</style>\n",
       "<table border=\"1\" class=\"dataframe\">\n",
       "  <thead>\n",
       "    <tr style=\"text-align: right;\">\n",
       "      <th></th>\n",
       "      <th>county</th>\n",
       "      <th>is_business</th>\n",
       "      <th>product_type</th>\n",
       "      <th>target</th>\n",
       "      <th>is_consumption</th>\n",
       "      <th>datetime</th>\n",
       "      <th>data_block_id</th>\n",
       "      <th>row_id</th>\n",
       "      <th>prediction_unit_id</th>\n",
       "    </tr>\n",
       "  </thead>\n",
       "  <tbody>\n",
       "    <tr>\n",
       "      <th>0</th>\n",
       "      <td>0</td>\n",
       "      <td>0</td>\n",
       "      <td>1</td>\n",
       "      <td>0.713</td>\n",
       "      <td>0</td>\n",
       "      <td>2021-09-01 00:00:00</td>\n",
       "      <td>0</td>\n",
       "      <td>0</td>\n",
       "      <td>0</td>\n",
       "    </tr>\n",
       "    <tr>\n",
       "      <th>1</th>\n",
       "      <td>0</td>\n",
       "      <td>0</td>\n",
       "      <td>1</td>\n",
       "      <td>96.590</td>\n",
       "      <td>1</td>\n",
       "      <td>2021-09-01 00:00:00</td>\n",
       "      <td>0</td>\n",
       "      <td>1</td>\n",
       "      <td>0</td>\n",
       "    </tr>\n",
       "    <tr>\n",
       "      <th>2</th>\n",
       "      <td>0</td>\n",
       "      <td>0</td>\n",
       "      <td>2</td>\n",
       "      <td>0.000</td>\n",
       "      <td>0</td>\n",
       "      <td>2021-09-01 00:00:00</td>\n",
       "      <td>0</td>\n",
       "      <td>2</td>\n",
       "      <td>1</td>\n",
       "    </tr>\n",
       "    <tr>\n",
       "      <th>3</th>\n",
       "      <td>0</td>\n",
       "      <td>0</td>\n",
       "      <td>2</td>\n",
       "      <td>17.314</td>\n",
       "      <td>1</td>\n",
       "      <td>2021-09-01 00:00:00</td>\n",
       "      <td>0</td>\n",
       "      <td>3</td>\n",
       "      <td>1</td>\n",
       "    </tr>\n",
       "    <tr>\n",
       "      <th>4</th>\n",
       "      <td>0</td>\n",
       "      <td>0</td>\n",
       "      <td>3</td>\n",
       "      <td>2.904</td>\n",
       "      <td>0</td>\n",
       "      <td>2021-09-01 00:00:00</td>\n",
       "      <td>0</td>\n",
       "      <td>4</td>\n",
       "      <td>2</td>\n",
       "    </tr>\n",
       "  </tbody>\n",
       "</table>\n",
       "</div>"
      ],
      "text/plain": [
       "   county  is_business  product_type  ...  data_block_id  row_id prediction_unit_id\n",
       "0       0            0             1  ...              0       0                  0\n",
       "1       0            0             1  ...              0       1                  0\n",
       "2       0            0             2  ...              0       2                  1\n",
       "3       0            0             2  ...              0       3                  1\n",
       "4       0            0             3  ...              0       4                  2\n",
       "\n",
       "[5 rows x 9 columns]"
      ]
     },
     "execution_count": 68,
     "metadata": {},
     "output_type": "execute_result"
    }
   ],
   "source": [
    "df_train.head()\n"
   ]
  },
  {
   "cell_type": "code",
   "execution_count": 69,
   "id": "2c3389ef",
   "metadata": {
    "scrolled": true
   },
   "outputs": [
    {
     "name": "stdout",
     "output_type": "stream",
     "text": [
      "<class 'pandas.core.frame.DataFrame'>\n",
      "RangeIndex: 2018352 entries, 0 to 2018351\n",
      "Data columns (total 9 columns):\n",
      " #   Column              Dtype  \n",
      "---  ------              -----  \n",
      " 0   county              int64  \n",
      " 1   is_business         int64  \n",
      " 2   product_type        int64  \n",
      " 3   target              float64\n",
      " 4   is_consumption      int64  \n",
      " 5   datetime            object \n",
      " 6   data_block_id       int64  \n",
      " 7   row_id              int64  \n",
      " 8   prediction_unit_id  int64  \n",
      "dtypes: float64(1), int64(7), object(1)\n",
      "memory usage: 138.6+ MB\n"
     ]
    }
   ],
   "source": [
    "df_train.info()"
   ]
  },
  {
   "cell_type": "code",
   "execution_count": 70,
   "id": "d32a7ab0",
   "metadata": {},
   "outputs": [],
   "source": [
    "# As date column is object, it nedds to be converted\n",
    "df_train['datetime'] = pd.to_datetime(df_train['datetime'])"
   ]
  },
  {
   "cell_type": "code",
   "execution_count": 71,
   "id": "46b1fe40",
   "metadata": {},
   "outputs": [
    {
     "name": "stdout",
     "output_type": "stream",
     "text": [
      "<class 'pandas.core.frame.DataFrame'>\n",
      "RangeIndex: 2018352 entries, 0 to 2018351\n",
      "Data columns (total 9 columns):\n",
      " #   Column              Dtype         \n",
      "---  ------              -----         \n",
      " 0   county              int64         \n",
      " 1   is_business         int64         \n",
      " 2   product_type        int64         \n",
      " 3   target              float64       \n",
      " 4   is_consumption      int64         \n",
      " 5   datetime            datetime64[ns]\n",
      " 6   data_block_id       int64         \n",
      " 7   row_id              int64         \n",
      " 8   prediction_unit_id  int64         \n",
      "dtypes: datetime64[ns](1), float64(1), int64(7)\n",
      "memory usage: 138.6 MB\n"
     ]
    }
   ],
   "source": [
    "df_train.info()"
   ]
  },
  {
   "cell_type": "code",
   "execution_count": 72,
   "id": "eb220961",
   "metadata": {},
   "outputs": [
    {
     "data": {
      "text/plain": [
       "county                  0\n",
       "is_business             0\n",
       "product_type            0\n",
       "target                528\n",
       "is_consumption          0\n",
       "datetime                0\n",
       "data_block_id           0\n",
       "row_id                  0\n",
       "prediction_unit_id      0\n",
       "dtype: int64"
      ]
     },
     "execution_count": 72,
     "metadata": {},
     "output_type": "execute_result"
    }
   ],
   "source": [
    "df_train.isna().sum()"
   ]
  },
  {
   "cell_type": "code",
   "execution_count": 73,
   "id": "92fa13f4",
   "metadata": {},
   "outputs": [
    {
     "data": {
      "text/html": [
       "<div>\n",
       "<style scoped>\n",
       "    .dataframe tbody tr th:only-of-type {\n",
       "        vertical-align: middle;\n",
       "    }\n",
       "\n",
       "    .dataframe tbody tr th {\n",
       "        vertical-align: top;\n",
       "    }\n",
       "\n",
       "    .dataframe thead th {\n",
       "        text-align: right;\n",
       "    }\n",
       "</style>\n",
       "<table border=\"1\" class=\"dataframe\">\n",
       "  <thead>\n",
       "    <tr style=\"text-align: right;\">\n",
       "      <th></th>\n",
       "      <th>county</th>\n",
       "      <th>is_business</th>\n",
       "      <th>product_type</th>\n",
       "      <th>target</th>\n",
       "      <th>is_consumption</th>\n",
       "      <th>datetime</th>\n",
       "      <th>data_block_id</th>\n",
       "      <th>row_id</th>\n",
       "      <th>prediction_unit_id</th>\n",
       "    </tr>\n",
       "  </thead>\n",
       "  <tbody>\n",
       "    <tr>\n",
       "      <th>178938</th>\n",
       "      <td>0</td>\n",
       "      <td>0</td>\n",
       "      <td>1</td>\n",
       "      <td>NaN</td>\n",
       "      <td>0</td>\n",
       "      <td>2021-10-31 03:00:00</td>\n",
       "      <td>60</td>\n",
       "      <td>178938</td>\n",
       "      <td>0</td>\n",
       "    </tr>\n",
       "    <tr>\n",
       "      <th>178939</th>\n",
       "      <td>0</td>\n",
       "      <td>0</td>\n",
       "      <td>1</td>\n",
       "      <td>NaN</td>\n",
       "      <td>1</td>\n",
       "      <td>2021-10-31 03:00:00</td>\n",
       "      <td>60</td>\n",
       "      <td>178939</td>\n",
       "      <td>0</td>\n",
       "    </tr>\n",
       "    <tr>\n",
       "      <th>178940</th>\n",
       "      <td>0</td>\n",
       "      <td>0</td>\n",
       "      <td>2</td>\n",
       "      <td>NaN</td>\n",
       "      <td>0</td>\n",
       "      <td>2021-10-31 03:00:00</td>\n",
       "      <td>60</td>\n",
       "      <td>178940</td>\n",
       "      <td>1</td>\n",
       "    </tr>\n",
       "    <tr>\n",
       "      <th>178941</th>\n",
       "      <td>0</td>\n",
       "      <td>0</td>\n",
       "      <td>2</td>\n",
       "      <td>NaN</td>\n",
       "      <td>1</td>\n",
       "      <td>2021-10-31 03:00:00</td>\n",
       "      <td>60</td>\n",
       "      <td>178941</td>\n",
       "      <td>1</td>\n",
       "    </tr>\n",
       "    <tr>\n",
       "      <th>178942</th>\n",
       "      <td>0</td>\n",
       "      <td>0</td>\n",
       "      <td>3</td>\n",
       "      <td>NaN</td>\n",
       "      <td>0</td>\n",
       "      <td>2021-10-31 03:00:00</td>\n",
       "      <td>60</td>\n",
       "      <td>178942</td>\n",
       "      <td>2</td>\n",
       "    </tr>\n",
       "    <tr>\n",
       "      <th>...</th>\n",
       "      <td>...</td>\n",
       "      <td>...</td>\n",
       "      <td>...</td>\n",
       "      <td>...</td>\n",
       "      <td>...</td>\n",
       "      <td>...</td>\n",
       "      <td>...</td>\n",
       "      <td>...</td>\n",
       "      <td>...</td>\n",
       "    </tr>\n",
       "    <tr>\n",
       "      <th>1806379</th>\n",
       "      <td>15</td>\n",
       "      <td>1</td>\n",
       "      <td>0</td>\n",
       "      <td>NaN</td>\n",
       "      <td>1</td>\n",
       "      <td>2023-03-26 03:00:00</td>\n",
       "      <td>571</td>\n",
       "      <td>1806379</td>\n",
       "      <td>64</td>\n",
       "    </tr>\n",
       "    <tr>\n",
       "      <th>1806380</th>\n",
       "      <td>15</td>\n",
       "      <td>1</td>\n",
       "      <td>1</td>\n",
       "      <td>NaN</td>\n",
       "      <td>0</td>\n",
       "      <td>2023-03-26 03:00:00</td>\n",
       "      <td>571</td>\n",
       "      <td>1806380</td>\n",
       "      <td>59</td>\n",
       "    </tr>\n",
       "    <tr>\n",
       "      <th>1806381</th>\n",
       "      <td>15</td>\n",
       "      <td>1</td>\n",
       "      <td>1</td>\n",
       "      <td>NaN</td>\n",
       "      <td>1</td>\n",
       "      <td>2023-03-26 03:00:00</td>\n",
       "      <td>571</td>\n",
       "      <td>1806381</td>\n",
       "      <td>59</td>\n",
       "    </tr>\n",
       "    <tr>\n",
       "      <th>1806382</th>\n",
       "      <td>15</td>\n",
       "      <td>1</td>\n",
       "      <td>3</td>\n",
       "      <td>NaN</td>\n",
       "      <td>0</td>\n",
       "      <td>2023-03-26 03:00:00</td>\n",
       "      <td>571</td>\n",
       "      <td>1806382</td>\n",
       "      <td>60</td>\n",
       "    </tr>\n",
       "    <tr>\n",
       "      <th>1806383</th>\n",
       "      <td>15</td>\n",
       "      <td>1</td>\n",
       "      <td>3</td>\n",
       "      <td>NaN</td>\n",
       "      <td>1</td>\n",
       "      <td>2023-03-26 03:00:00</td>\n",
       "      <td>571</td>\n",
       "      <td>1806383</td>\n",
       "      <td>60</td>\n",
       "    </tr>\n",
       "  </tbody>\n",
       "</table>\n",
       "<p>528 rows × 9 columns</p>\n",
       "</div>"
      ],
      "text/plain": [
       "         county  is_business  ...   row_id  prediction_unit_id\n",
       "178938        0            0  ...   178938                   0\n",
       "178939        0            0  ...   178939                   0\n",
       "178940        0            0  ...   178940                   1\n",
       "178941        0            0  ...   178941                   1\n",
       "178942        0            0  ...   178942                   2\n",
       "...         ...          ...  ...      ...                 ...\n",
       "1806379      15            1  ...  1806379                  64\n",
       "1806380      15            1  ...  1806380                  59\n",
       "1806381      15            1  ...  1806381                  59\n",
       "1806382      15            1  ...  1806382                  60\n",
       "1806383      15            1  ...  1806383                  60\n",
       "\n",
       "[528 rows x 9 columns]"
      ]
     },
     "execution_count": 73,
     "metadata": {},
     "output_type": "execute_result"
    }
   ],
   "source": [
    "df_train[df_train.isna().any(axis=1)]\n"
   ]
  },
  {
   "cell_type": "code",
   "execution_count": 74,
   "id": "0c01c777",
   "metadata": {},
   "outputs": [
    {
     "data": {
      "text/plain": [
       "county                0.00000\n",
       "is_business           0.00000\n",
       "product_type          0.00000\n",
       "target                0.02616\n",
       "is_consumption        0.00000\n",
       "datetime              0.00000\n",
       "data_block_id         0.00000\n",
       "row_id                0.00000\n",
       "prediction_unit_id    0.00000\n",
       "dtype: float64"
      ]
     },
     "execution_count": 74,
     "metadata": {},
     "output_type": "execute_result"
    }
   ],
   "source": [
    "#df_train.isna().mean()*100\n",
    "(df_train.isna().sum() / df_train.shape[0]) * 100"
   ]
  },
  {
   "cell_type": "code",
   "execution_count": 75,
   "id": "b877ebf0",
   "metadata": {},
   "outputs": [],
   "source": [
    "df_train.dropna(inplace=True)"
   ]
  },
  {
   "cell_type": "code",
   "execution_count": 76,
   "id": "8b497ae7",
   "metadata": {},
   "outputs": [
    {
     "data": {
      "text/plain": [
       "county                0\n",
       "is_business           0\n",
       "product_type          0\n",
       "target                0\n",
       "is_consumption        0\n",
       "datetime              0\n",
       "data_block_id         0\n",
       "row_id                0\n",
       "prediction_unit_id    0\n",
       "dtype: int64"
      ]
     },
     "execution_count": 76,
     "metadata": {},
     "output_type": "execute_result"
    }
   ],
   "source": [
    "df_train.isna().sum()"
   ]
  },
  {
   "cell_type": "code",
   "execution_count": 77,
   "id": "c9802961",
   "metadata": {},
   "outputs": [
    {
     "data": {
      "text/plain": [
       "0"
      ]
     },
     "execution_count": 77,
     "metadata": {},
     "output_type": "execute_result"
    }
   ],
   "source": [
    "df_train.duplicated().sum()"
   ]
  },
  {
   "cell_type": "code",
   "execution_count": 28,
   "id": "3a5cf5b4",
   "metadata": {},
   "outputs": [],
   "source": [
    "df_forweather = pd.read_csv(r\"C:\\Users\\mrdel\\Desktop\\BootCamp\\Capstone Project\\Capstone Datasets\\predict-energy-behavior-of-prosumers\\forecast_weather.csv\")"
   ]
  },
  {
   "cell_type": "code",
   "execution_count": 29,
   "id": "22272450",
   "metadata": {},
   "outputs": [
    {
     "data": {
      "text/html": [
       "<div>\n",
       "<style scoped>\n",
       "    .dataframe tbody tr th:only-of-type {\n",
       "        vertical-align: middle;\n",
       "    }\n",
       "\n",
       "    .dataframe tbody tr th {\n",
       "        vertical-align: top;\n",
       "    }\n",
       "\n",
       "    .dataframe thead th {\n",
       "        text-align: right;\n",
       "    }\n",
       "</style>\n",
       "<table border=\"1\" class=\"dataframe\">\n",
       "  <thead>\n",
       "    <tr style=\"text-align: right;\">\n",
       "      <th></th>\n",
       "      <th>latitude</th>\n",
       "      <th>longitude</th>\n",
       "      <th>origin_datetime</th>\n",
       "      <th>hours_ahead</th>\n",
       "      <th>temperature</th>\n",
       "      <th>dewpoint</th>\n",
       "      <th>cloudcover_high</th>\n",
       "      <th>cloudcover_low</th>\n",
       "      <th>cloudcover_mid</th>\n",
       "      <th>cloudcover_total</th>\n",
       "      <th>10_metre_u_wind_component</th>\n",
       "      <th>10_metre_v_wind_component</th>\n",
       "      <th>data_block_id</th>\n",
       "      <th>forecast_datetime</th>\n",
       "      <th>direct_solar_radiation</th>\n",
       "      <th>surface_solar_radiation_downwards</th>\n",
       "      <th>snowfall</th>\n",
       "      <th>total_precipitation</th>\n",
       "    </tr>\n",
       "  </thead>\n",
       "  <tbody>\n",
       "    <tr>\n",
       "      <th>0</th>\n",
       "      <td>57.6</td>\n",
       "      <td>21.7</td>\n",
       "      <td>2021-09-01 00:00:00+00:00</td>\n",
       "      <td>1</td>\n",
       "      <td>15.655786</td>\n",
       "      <td>11.553613</td>\n",
       "      <td>0.904816</td>\n",
       "      <td>0.019714</td>\n",
       "      <td>0.000000</td>\n",
       "      <td>0.905899</td>\n",
       "      <td>-0.411328</td>\n",
       "      <td>-9.106137</td>\n",
       "      <td>1</td>\n",
       "      <td>2021-09-01 01:00:00+00:00</td>\n",
       "      <td>0.0</td>\n",
       "      <td>0.0</td>\n",
       "      <td>0.0</td>\n",
       "      <td>0.0</td>\n",
       "    </tr>\n",
       "    <tr>\n",
       "      <th>1</th>\n",
       "      <td>57.6</td>\n",
       "      <td>22.2</td>\n",
       "      <td>2021-09-01 00:00:00+00:00</td>\n",
       "      <td>1</td>\n",
       "      <td>13.003931</td>\n",
       "      <td>10.689844</td>\n",
       "      <td>0.886322</td>\n",
       "      <td>0.004456</td>\n",
       "      <td>0.000000</td>\n",
       "      <td>0.886658</td>\n",
       "      <td>0.206347</td>\n",
       "      <td>-5.355405</td>\n",
       "      <td>1</td>\n",
       "      <td>2021-09-01 01:00:00+00:00</td>\n",
       "      <td>0.0</td>\n",
       "      <td>0.0</td>\n",
       "      <td>0.0</td>\n",
       "      <td>0.0</td>\n",
       "    </tr>\n",
       "    <tr>\n",
       "      <th>2</th>\n",
       "      <td>57.6</td>\n",
       "      <td>22.7</td>\n",
       "      <td>2021-09-01 00:00:00+00:00</td>\n",
       "      <td>1</td>\n",
       "      <td>14.206567</td>\n",
       "      <td>11.671777</td>\n",
       "      <td>0.729034</td>\n",
       "      <td>0.005615</td>\n",
       "      <td>0.000000</td>\n",
       "      <td>0.730499</td>\n",
       "      <td>1.451587</td>\n",
       "      <td>-7.417905</td>\n",
       "      <td>1</td>\n",
       "      <td>2021-09-01 01:00:00+00:00</td>\n",
       "      <td>0.0</td>\n",
       "      <td>0.0</td>\n",
       "      <td>0.0</td>\n",
       "      <td>0.0</td>\n",
       "    </tr>\n",
       "    <tr>\n",
       "      <th>3</th>\n",
       "      <td>57.6</td>\n",
       "      <td>23.2</td>\n",
       "      <td>2021-09-01 00:00:00+00:00</td>\n",
       "      <td>1</td>\n",
       "      <td>14.844507</td>\n",
       "      <td>12.264917</td>\n",
       "      <td>0.336304</td>\n",
       "      <td>0.074341</td>\n",
       "      <td>0.000626</td>\n",
       "      <td>0.385468</td>\n",
       "      <td>1.090869</td>\n",
       "      <td>-9.163999</td>\n",
       "      <td>1</td>\n",
       "      <td>2021-09-01 01:00:00+00:00</td>\n",
       "      <td>0.0</td>\n",
       "      <td>0.0</td>\n",
       "      <td>0.0</td>\n",
       "      <td>0.0</td>\n",
       "    </tr>\n",
       "    <tr>\n",
       "      <th>4</th>\n",
       "      <td>57.6</td>\n",
       "      <td>23.7</td>\n",
       "      <td>2021-09-01 00:00:00+00:00</td>\n",
       "      <td>1</td>\n",
       "      <td>15.293848</td>\n",
       "      <td>12.458887</td>\n",
       "      <td>0.102875</td>\n",
       "      <td>0.088074</td>\n",
       "      <td>0.000015</td>\n",
       "      <td>0.176590</td>\n",
       "      <td>1.268481</td>\n",
       "      <td>-8.975766</td>\n",
       "      <td>1</td>\n",
       "      <td>2021-09-01 01:00:00+00:00</td>\n",
       "      <td>0.0</td>\n",
       "      <td>0.0</td>\n",
       "      <td>0.0</td>\n",
       "      <td>0.0</td>\n",
       "    </tr>\n",
       "  </tbody>\n",
       "</table>\n",
       "</div>"
      ],
      "text/plain": [
       "   latitude  longitude  ... snowfall  total_precipitation\n",
       "0      57.6       21.7  ...      0.0                  0.0\n",
       "1      57.6       22.2  ...      0.0                  0.0\n",
       "2      57.6       22.7  ...      0.0                  0.0\n",
       "3      57.6       23.2  ...      0.0                  0.0\n",
       "4      57.6       23.7  ...      0.0                  0.0\n",
       "\n",
       "[5 rows x 18 columns]"
      ]
     },
     "execution_count": 29,
     "metadata": {},
     "output_type": "execute_result"
    }
   ],
   "source": [
    "df_forweather.head()"
   ]
  },
  {
   "cell_type": "code",
   "execution_count": 30,
   "id": "16a88a78",
   "metadata": {
    "scrolled": true
   },
   "outputs": [
    {
     "name": "stdout",
     "output_type": "stream",
     "text": [
      "<class 'pandas.core.frame.DataFrame'>\n",
      "RangeIndex: 3424512 entries, 0 to 3424511\n",
      "Data columns (total 18 columns):\n",
      " #   Column                             Dtype  \n",
      "---  ------                             -----  \n",
      " 0   latitude                           float64\n",
      " 1   longitude                          float64\n",
      " 2   origin_datetime                    object \n",
      " 3   hours_ahead                        int64  \n",
      " 4   temperature                        float64\n",
      " 5   dewpoint                           float64\n",
      " 6   cloudcover_high                    float64\n",
      " 7   cloudcover_low                     float64\n",
      " 8   cloudcover_mid                     float64\n",
      " 9   cloudcover_total                   float64\n",
      " 10  10_metre_u_wind_component          float64\n",
      " 11  10_metre_v_wind_component          float64\n",
      " 12  data_block_id                      int64  \n",
      " 13  forecast_datetime                  object \n",
      " 14  direct_solar_radiation             float64\n",
      " 15  surface_solar_radiation_downwards  float64\n",
      " 16  snowfall                           float64\n",
      " 17  total_precipitation                float64\n",
      "dtypes: float64(14), int64(2), object(2)\n",
      "memory usage: 470.3+ MB\n"
     ]
    }
   ],
   "source": [
    "df_forweather.info()"
   ]
  },
  {
   "cell_type": "code",
   "execution_count": 31,
   "id": "4ad6faab",
   "metadata": {},
   "outputs": [],
   "source": [
    "# As date column is object, it nedds to be converted\n",
    "df_forweather[['forecast_datetime', 'origin_datetime']] = df_forweather[['forecast_datetime', 'origin_datetime']].apply(pd.to_datetime)\n"
   ]
  },
  {
   "cell_type": "code",
   "execution_count": 32,
   "id": "c7265af9",
   "metadata": {},
   "outputs": [
    {
     "name": "stdout",
     "output_type": "stream",
     "text": [
      "<class 'pandas.core.frame.DataFrame'>\n",
      "RangeIndex: 3424512 entries, 0 to 3424511\n",
      "Data columns (total 18 columns):\n",
      " #   Column                             Dtype              \n",
      "---  ------                             -----              \n",
      " 0   latitude                           float64            \n",
      " 1   longitude                          float64            \n",
      " 2   origin_datetime                    datetime64[ns, UTC]\n",
      " 3   hours_ahead                        int64              \n",
      " 4   temperature                        float64            \n",
      " 5   dewpoint                           float64            \n",
      " 6   cloudcover_high                    float64            \n",
      " 7   cloudcover_low                     float64            \n",
      " 8   cloudcover_mid                     float64            \n",
      " 9   cloudcover_total                   float64            \n",
      " 10  10_metre_u_wind_component          float64            \n",
      " 11  10_metre_v_wind_component          float64            \n",
      " 12  data_block_id                      int64              \n",
      " 13  forecast_datetime                  datetime64[ns, UTC]\n",
      " 14  direct_solar_radiation             float64            \n",
      " 15  surface_solar_radiation_downwards  float64            \n",
      " 16  snowfall                           float64            \n",
      " 17  total_precipitation                float64            \n",
      "dtypes: datetime64[ns, UTC](2), float64(14), int64(2)\n",
      "memory usage: 470.3 MB\n"
     ]
    }
   ],
   "source": [
    "df_forweather.info()"
   ]
  },
  {
   "cell_type": "code",
   "execution_count": 33,
   "id": "2565932c",
   "metadata": {},
   "outputs": [
    {
     "data": {
      "text/plain": [
       "latitude                             0\n",
       "longitude                            0\n",
       "origin_datetime                      0\n",
       "hours_ahead                          0\n",
       "temperature                          0\n",
       "dewpoint                             0\n",
       "cloudcover_high                      0\n",
       "cloudcover_low                       0\n",
       "cloudcover_mid                       0\n",
       "cloudcover_total                     0\n",
       "10_metre_u_wind_component            0\n",
       "10_metre_v_wind_component            0\n",
       "data_block_id                        0\n",
       "forecast_datetime                    0\n",
       "direct_solar_radiation               0\n",
       "surface_solar_radiation_downwards    2\n",
       "snowfall                             0\n",
       "total_precipitation                  0\n",
       "dtype: int64"
      ]
     },
     "execution_count": 33,
     "metadata": {},
     "output_type": "execute_result"
    }
   ],
   "source": [
    "df_forweather.isna().sum()"
   ]
  },
  {
   "cell_type": "code",
   "execution_count": 34,
   "id": "8ac86d5c",
   "metadata": {
    "scrolled": true
   },
   "outputs": [
    {
     "data": {
      "text/plain": [
       "latitude                             0.000000\n",
       "longitude                            0.000000\n",
       "origin_datetime                      0.000000\n",
       "hours_ahead                          0.000000\n",
       "temperature                          0.000000\n",
       "dewpoint                             0.000000\n",
       "cloudcover_high                      0.000000\n",
       "cloudcover_low                       0.000000\n",
       "cloudcover_mid                       0.000000\n",
       "cloudcover_total                     0.000000\n",
       "10_metre_u_wind_component            0.000000\n",
       "10_metre_v_wind_component            0.000000\n",
       "data_block_id                        0.000000\n",
       "forecast_datetime                    0.000000\n",
       "direct_solar_radiation               0.000000\n",
       "surface_solar_radiation_downwards    0.000058\n",
       "snowfall                             0.000000\n",
       "total_precipitation                  0.000000\n",
       "dtype: float64"
      ]
     },
     "execution_count": 34,
     "metadata": {},
     "output_type": "execute_result"
    }
   ],
   "source": [
    "df_forweather.isna().sum()/df_forweather.shape[0]*100"
   ]
  },
  {
   "cell_type": "code",
   "execution_count": 35,
   "id": "402276b6",
   "metadata": {},
   "outputs": [],
   "source": [
    "df_forweather.dropna(inplace=True)"
   ]
  },
  {
   "cell_type": "code",
   "execution_count": 36,
   "id": "c9076100",
   "metadata": {},
   "outputs": [
    {
     "data": {
      "text/plain": [
       "latitude                             0\n",
       "longitude                            0\n",
       "origin_datetime                      0\n",
       "hours_ahead                          0\n",
       "temperature                          0\n",
       "dewpoint                             0\n",
       "cloudcover_high                      0\n",
       "cloudcover_low                       0\n",
       "cloudcover_mid                       0\n",
       "cloudcover_total                     0\n",
       "10_metre_u_wind_component            0\n",
       "10_metre_v_wind_component            0\n",
       "data_block_id                        0\n",
       "forecast_datetime                    0\n",
       "direct_solar_radiation               0\n",
       "surface_solar_radiation_downwards    0\n",
       "snowfall                             0\n",
       "total_precipitation                  0\n",
       "dtype: int64"
      ]
     },
     "execution_count": 36,
     "metadata": {},
     "output_type": "execute_result"
    }
   ],
   "source": [
    "df_forweather.isna().sum()"
   ]
  },
  {
   "cell_type": "code",
   "execution_count": 37,
   "id": "464f1e80",
   "metadata": {},
   "outputs": [
    {
     "data": {
      "text/plain": [
       "0"
      ]
     },
     "execution_count": 37,
     "metadata": {},
     "output_type": "execute_result"
    }
   ],
   "source": [
    "df_forweather.duplicated().sum()"
   ]
  },
  {
   "cell_type": "code",
   "execution_count": 38,
   "id": "65b22d33",
   "metadata": {},
   "outputs": [],
   "source": [
    "df_eleprices = pd.read_csv(r\"C:\\Users\\mrdel\\Desktop\\BootCamp\\Capstone Project\\Capstone Datasets\\predict-energy-behavior-of-prosumers\\electricity_prices.csv\")"
   ]
  },
  {
   "cell_type": "code",
   "execution_count": 39,
   "id": "9a540b93",
   "metadata": {
    "scrolled": true
   },
   "outputs": [
    {
     "data": {
      "text/html": [
       "<div>\n",
       "<style scoped>\n",
       "    .dataframe tbody tr th:only-of-type {\n",
       "        vertical-align: middle;\n",
       "    }\n",
       "\n",
       "    .dataframe tbody tr th {\n",
       "        vertical-align: top;\n",
       "    }\n",
       "\n",
       "    .dataframe thead th {\n",
       "        text-align: right;\n",
       "    }\n",
       "</style>\n",
       "<table border=\"1\" class=\"dataframe\">\n",
       "  <thead>\n",
       "    <tr style=\"text-align: right;\">\n",
       "      <th></th>\n",
       "      <th>forecast_date</th>\n",
       "      <th>euros_per_mwh</th>\n",
       "      <th>origin_date</th>\n",
       "      <th>data_block_id</th>\n",
       "    </tr>\n",
       "  </thead>\n",
       "  <tbody>\n",
       "    <tr>\n",
       "      <th>0</th>\n",
       "      <td>2021-09-01 00:00:00</td>\n",
       "      <td>92.51</td>\n",
       "      <td>2021-08-31 00:00:00</td>\n",
       "      <td>1</td>\n",
       "    </tr>\n",
       "    <tr>\n",
       "      <th>1</th>\n",
       "      <td>2021-09-01 01:00:00</td>\n",
       "      <td>88.90</td>\n",
       "      <td>2021-08-31 01:00:00</td>\n",
       "      <td>1</td>\n",
       "    </tr>\n",
       "    <tr>\n",
       "      <th>2</th>\n",
       "      <td>2021-09-01 02:00:00</td>\n",
       "      <td>87.35</td>\n",
       "      <td>2021-08-31 02:00:00</td>\n",
       "      <td>1</td>\n",
       "    </tr>\n",
       "    <tr>\n",
       "      <th>3</th>\n",
       "      <td>2021-09-01 03:00:00</td>\n",
       "      <td>86.88</td>\n",
       "      <td>2021-08-31 03:00:00</td>\n",
       "      <td>1</td>\n",
       "    </tr>\n",
       "    <tr>\n",
       "      <th>4</th>\n",
       "      <td>2021-09-01 04:00:00</td>\n",
       "      <td>88.43</td>\n",
       "      <td>2021-08-31 04:00:00</td>\n",
       "      <td>1</td>\n",
       "    </tr>\n",
       "  </tbody>\n",
       "</table>\n",
       "</div>"
      ],
      "text/plain": [
       "         forecast_date  euros_per_mwh          origin_date  data_block_id\n",
       "0  2021-09-01 00:00:00          92.51  2021-08-31 00:00:00              1\n",
       "1  2021-09-01 01:00:00          88.90  2021-08-31 01:00:00              1\n",
       "2  2021-09-01 02:00:00          87.35  2021-08-31 02:00:00              1\n",
       "3  2021-09-01 03:00:00          86.88  2021-08-31 03:00:00              1\n",
       "4  2021-09-01 04:00:00          88.43  2021-08-31 04:00:00              1"
      ]
     },
     "execution_count": 39,
     "metadata": {},
     "output_type": "execute_result"
    }
   ],
   "source": [
    "df_eleprices.head()"
   ]
  },
  {
   "cell_type": "code",
   "execution_count": 40,
   "id": "6db66e39",
   "metadata": {},
   "outputs": [
    {
     "name": "stdout",
     "output_type": "stream",
     "text": [
      "<class 'pandas.core.frame.DataFrame'>\n",
      "RangeIndex: 15286 entries, 0 to 15285\n",
      "Data columns (total 4 columns):\n",
      " #   Column         Non-Null Count  Dtype  \n",
      "---  ------         --------------  -----  \n",
      " 0   forecast_date  15286 non-null  object \n",
      " 1   euros_per_mwh  15286 non-null  float64\n",
      " 2   origin_date    15286 non-null  object \n",
      " 3   data_block_id  15286 non-null  int64  \n",
      "dtypes: float64(1), int64(1), object(2)\n",
      "memory usage: 477.8+ KB\n"
     ]
    }
   ],
   "source": [
    "df_eleprices.info()"
   ]
  },
  {
   "cell_type": "code",
   "execution_count": 41,
   "id": "9c8f821e",
   "metadata": {},
   "outputs": [],
   "source": [
    "# As date column is object, it nedds to be converted\n",
    "df_eleprices[['forecast_date', 'origin_date']] = df_eleprices[['forecast_date', 'origin_date']].apply(pd.to_datetime)\n"
   ]
  },
  {
   "cell_type": "code",
   "execution_count": 42,
   "id": "1fe55953",
   "metadata": {},
   "outputs": [
    {
     "name": "stdout",
     "output_type": "stream",
     "text": [
      "<class 'pandas.core.frame.DataFrame'>\n",
      "RangeIndex: 15286 entries, 0 to 15285\n",
      "Data columns (total 4 columns):\n",
      " #   Column         Non-Null Count  Dtype         \n",
      "---  ------         --------------  -----         \n",
      " 0   forecast_date  15286 non-null  datetime64[ns]\n",
      " 1   euros_per_mwh  15286 non-null  float64       \n",
      " 2   origin_date    15286 non-null  datetime64[ns]\n",
      " 3   data_block_id  15286 non-null  int64         \n",
      "dtypes: datetime64[ns](2), float64(1), int64(1)\n",
      "memory usage: 477.8 KB\n"
     ]
    }
   ],
   "source": [
    "df_eleprices.info()"
   ]
  },
  {
   "cell_type": "code",
   "execution_count": 43,
   "id": "63fb0f16",
   "metadata": {},
   "outputs": [
    {
     "data": {
      "text/plain": [
       "forecast_date    0\n",
       "euros_per_mwh    0\n",
       "origin_date      0\n",
       "data_block_id    0\n",
       "dtype: int64"
      ]
     },
     "execution_count": 43,
     "metadata": {},
     "output_type": "execute_result"
    }
   ],
   "source": [
    "df_eleprices.isna().sum()"
   ]
  },
  {
   "cell_type": "code",
   "execution_count": 44,
   "id": "1f7c6885",
   "metadata": {},
   "outputs": [
    {
     "data": {
      "text/plain": [
       "False"
      ]
     },
     "execution_count": 44,
     "metadata": {},
     "output_type": "execute_result"
    }
   ],
   "source": [
    "df_eleprices.duplicated().any(axis=0)"
   ]
  },
  {
   "cell_type": "code",
   "execution_count": 45,
   "id": "b66df273",
   "metadata": {},
   "outputs": [],
   "source": [
    "df_gasprices = pd.read_csv(r\"C:\\Users\\mrdel\\Desktop\\BootCamp\\Capstone Project\\Capstone Datasets\\predict-energy-behavior-of-prosumers\\gas_prices.csv\")"
   ]
  },
  {
   "cell_type": "code",
   "execution_count": 46,
   "id": "7f8c1dfc",
   "metadata": {},
   "outputs": [
    {
     "data": {
      "text/html": [
       "<div>\n",
       "<style scoped>\n",
       "    .dataframe tbody tr th:only-of-type {\n",
       "        vertical-align: middle;\n",
       "    }\n",
       "\n",
       "    .dataframe tbody tr th {\n",
       "        vertical-align: top;\n",
       "    }\n",
       "\n",
       "    .dataframe thead th {\n",
       "        text-align: right;\n",
       "    }\n",
       "</style>\n",
       "<table border=\"1\" class=\"dataframe\">\n",
       "  <thead>\n",
       "    <tr style=\"text-align: right;\">\n",
       "      <th></th>\n",
       "      <th>forecast_date</th>\n",
       "      <th>lowest_price_per_mwh</th>\n",
       "      <th>highest_price_per_mwh</th>\n",
       "      <th>origin_date</th>\n",
       "      <th>data_block_id</th>\n",
       "    </tr>\n",
       "  </thead>\n",
       "  <tbody>\n",
       "    <tr>\n",
       "      <th>0</th>\n",
       "      <td>2021-09-01</td>\n",
       "      <td>45.23</td>\n",
       "      <td>46.32</td>\n",
       "      <td>2021-08-31</td>\n",
       "      <td>1</td>\n",
       "    </tr>\n",
       "    <tr>\n",
       "      <th>1</th>\n",
       "      <td>2021-09-02</td>\n",
       "      <td>45.62</td>\n",
       "      <td>46.29</td>\n",
       "      <td>2021-09-01</td>\n",
       "      <td>2</td>\n",
       "    </tr>\n",
       "    <tr>\n",
       "      <th>2</th>\n",
       "      <td>2021-09-03</td>\n",
       "      <td>45.85</td>\n",
       "      <td>46.40</td>\n",
       "      <td>2021-09-02</td>\n",
       "      <td>3</td>\n",
       "    </tr>\n",
       "    <tr>\n",
       "      <th>3</th>\n",
       "      <td>2021-09-04</td>\n",
       "      <td>46.30</td>\n",
       "      <td>46.80</td>\n",
       "      <td>2021-09-03</td>\n",
       "      <td>4</td>\n",
       "    </tr>\n",
       "    <tr>\n",
       "      <th>4</th>\n",
       "      <td>2021-09-05</td>\n",
       "      <td>46.30</td>\n",
       "      <td>46.58</td>\n",
       "      <td>2021-09-04</td>\n",
       "      <td>5</td>\n",
       "    </tr>\n",
       "  </tbody>\n",
       "</table>\n",
       "</div>"
      ],
      "text/plain": [
       "  forecast_date  lowest_price_per_mwh  ...  origin_date data_block_id\n",
       "0    2021-09-01                 45.23  ...   2021-08-31             1\n",
       "1    2021-09-02                 45.62  ...   2021-09-01             2\n",
       "2    2021-09-03                 45.85  ...   2021-09-02             3\n",
       "3    2021-09-04                 46.30  ...   2021-09-03             4\n",
       "4    2021-09-05                 46.30  ...   2021-09-04             5\n",
       "\n",
       "[5 rows x 5 columns]"
      ]
     },
     "execution_count": 46,
     "metadata": {},
     "output_type": "execute_result"
    }
   ],
   "source": [
    "df_gasprices.head()"
   ]
  },
  {
   "cell_type": "code",
   "execution_count": 47,
   "id": "b4ff1e73",
   "metadata": {
    "scrolled": true
   },
   "outputs": [
    {
     "name": "stdout",
     "output_type": "stream",
     "text": [
      "<class 'pandas.core.frame.DataFrame'>\n",
      "RangeIndex: 637 entries, 0 to 636\n",
      "Data columns (total 5 columns):\n",
      " #   Column                 Non-Null Count  Dtype  \n",
      "---  ------                 --------------  -----  \n",
      " 0   forecast_date          637 non-null    object \n",
      " 1   lowest_price_per_mwh   637 non-null    float64\n",
      " 2   highest_price_per_mwh  637 non-null    float64\n",
      " 3   origin_date            637 non-null    object \n",
      " 4   data_block_id          637 non-null    int64  \n",
      "dtypes: float64(2), int64(1), object(2)\n",
      "memory usage: 25.0+ KB\n"
     ]
    }
   ],
   "source": [
    "df_gasprices.info()"
   ]
  },
  {
   "cell_type": "code",
   "execution_count": 48,
   "id": "2155e1d1",
   "metadata": {},
   "outputs": [],
   "source": [
    "# As date column is object, it nedds to be converted\n",
    "df_gasprices[['forecast_date', 'origin_date']] = df_gasprices[['forecast_date', 'origin_date']].apply(pd.to_datetime)\n"
   ]
  },
  {
   "cell_type": "code",
   "execution_count": 49,
   "id": "a9b979b0",
   "metadata": {},
   "outputs": [
    {
     "name": "stdout",
     "output_type": "stream",
     "text": [
      "<class 'pandas.core.frame.DataFrame'>\n",
      "RangeIndex: 637 entries, 0 to 636\n",
      "Data columns (total 5 columns):\n",
      " #   Column                 Non-Null Count  Dtype         \n",
      "---  ------                 --------------  -----         \n",
      " 0   forecast_date          637 non-null    datetime64[ns]\n",
      " 1   lowest_price_per_mwh   637 non-null    float64       \n",
      " 2   highest_price_per_mwh  637 non-null    float64       \n",
      " 3   origin_date            637 non-null    datetime64[ns]\n",
      " 4   data_block_id          637 non-null    int64         \n",
      "dtypes: datetime64[ns](2), float64(2), int64(1)\n",
      "memory usage: 25.0 KB\n"
     ]
    }
   ],
   "source": [
    "df_gasprices.info()"
   ]
  },
  {
   "cell_type": "code",
   "execution_count": 50,
   "id": "06f1002c",
   "metadata": {},
   "outputs": [
    {
     "data": {
      "text/plain": [
       "forecast_date            0\n",
       "lowest_price_per_mwh     0\n",
       "highest_price_per_mwh    0\n",
       "origin_date              0\n",
       "data_block_id            0\n",
       "dtype: int64"
      ]
     },
     "execution_count": 50,
     "metadata": {},
     "output_type": "execute_result"
    }
   ],
   "source": [
    "df_gasprices.isna().sum()"
   ]
  },
  {
   "cell_type": "code",
   "execution_count": 51,
   "id": "8d967a73",
   "metadata": {},
   "outputs": [
    {
     "data": {
      "text/plain": [
       "False"
      ]
     },
     "execution_count": 51,
     "metadata": {},
     "output_type": "execute_result"
    }
   ],
   "source": [
    "df_gasprices.duplicated().any(axis=0)"
   ]
  },
  {
   "cell_type": "code",
   "execution_count": 52,
   "id": "6523c009",
   "metadata": {},
   "outputs": [],
   "source": [
    "df_station_to_county = pd.read_csv(r\"C:\\Users\\mrdel\\Desktop\\BootCamp\\Capstone Project\\Capstone Datasets\\predict-energy-behavior-of-prosumers\\weather_station_to_county_mapping.csv\")"
   ]
  },
  {
   "cell_type": "code",
   "execution_count": 53,
   "id": "da9e23da",
   "metadata": {},
   "outputs": [
    {
     "data": {
      "text/html": [
       "<div>\n",
       "<style scoped>\n",
       "    .dataframe tbody tr th:only-of-type {\n",
       "        vertical-align: middle;\n",
       "    }\n",
       "\n",
       "    .dataframe tbody tr th {\n",
       "        vertical-align: top;\n",
       "    }\n",
       "\n",
       "    .dataframe thead th {\n",
       "        text-align: right;\n",
       "    }\n",
       "</style>\n",
       "<table border=\"1\" class=\"dataframe\">\n",
       "  <thead>\n",
       "    <tr style=\"text-align: right;\">\n",
       "      <th></th>\n",
       "      <th>county_name</th>\n",
       "      <th>longitude</th>\n",
       "      <th>latitude</th>\n",
       "      <th>county</th>\n",
       "    </tr>\n",
       "  </thead>\n",
       "  <tbody>\n",
       "    <tr>\n",
       "      <th>0</th>\n",
       "      <td>NaN</td>\n",
       "      <td>21.7</td>\n",
       "      <td>57.6</td>\n",
       "      <td>NaN</td>\n",
       "    </tr>\n",
       "    <tr>\n",
       "      <th>1</th>\n",
       "      <td>NaN</td>\n",
       "      <td>21.7</td>\n",
       "      <td>57.9</td>\n",
       "      <td>NaN</td>\n",
       "    </tr>\n",
       "    <tr>\n",
       "      <th>2</th>\n",
       "      <td>NaN</td>\n",
       "      <td>21.7</td>\n",
       "      <td>58.2</td>\n",
       "      <td>NaN</td>\n",
       "    </tr>\n",
       "    <tr>\n",
       "      <th>3</th>\n",
       "      <td>NaN</td>\n",
       "      <td>21.7</td>\n",
       "      <td>58.5</td>\n",
       "      <td>NaN</td>\n",
       "    </tr>\n",
       "    <tr>\n",
       "      <th>4</th>\n",
       "      <td>NaN</td>\n",
       "      <td>21.7</td>\n",
       "      <td>58.8</td>\n",
       "      <td>NaN</td>\n",
       "    </tr>\n",
       "  </tbody>\n",
       "</table>\n",
       "</div>"
      ],
      "text/plain": [
       "  county_name  longitude  latitude  county\n",
       "0         NaN       21.7      57.6     NaN\n",
       "1         NaN       21.7      57.9     NaN\n",
       "2         NaN       21.7      58.2     NaN\n",
       "3         NaN       21.7      58.5     NaN\n",
       "4         NaN       21.7      58.8     NaN"
      ]
     },
     "execution_count": 53,
     "metadata": {},
     "output_type": "execute_result"
    }
   ],
   "source": [
    "df_station_to_county.head()"
   ]
  },
  {
   "cell_type": "code",
   "execution_count": 54,
   "id": "e68a995d",
   "metadata": {},
   "outputs": [
    {
     "name": "stdout",
     "output_type": "stream",
     "text": [
      "<class 'pandas.core.frame.DataFrame'>\n",
      "RangeIndex: 112 entries, 0 to 111\n",
      "Data columns (total 4 columns):\n",
      " #   Column       Non-Null Count  Dtype  \n",
      "---  ------       --------------  -----  \n",
      " 0   county_name  49 non-null     object \n",
      " 1   longitude    112 non-null    float64\n",
      " 2   latitude     112 non-null    float64\n",
      " 3   county       49 non-null     float64\n",
      "dtypes: float64(3), object(1)\n",
      "memory usage: 3.6+ KB\n"
     ]
    }
   ],
   "source": [
    "df_station_to_county.info()"
   ]
  },
  {
   "cell_type": "code",
   "execution_count": 55,
   "id": "c8d7af57",
   "metadata": {},
   "outputs": [
    {
     "data": {
      "text/plain": [
       "county_name    63\n",
       "longitude       0\n",
       "latitude        0\n",
       "county         63\n",
       "dtype: int64"
      ]
     },
     "execution_count": 55,
     "metadata": {},
     "output_type": "execute_result"
    }
   ],
   "source": [
    "df_station_to_county.isna().sum()"
   ]
  },
  {
   "cell_type": "code",
   "execution_count": 56,
   "id": "0a10d340",
   "metadata": {},
   "outputs": [
    {
     "data": {
      "text/plain": [
       "56.25"
      ]
     },
     "execution_count": 56,
     "metadata": {},
     "output_type": "execute_result"
    }
   ],
   "source": [
    "(df_station_to_county['county'].isna().sum() / len(df_station_to_county['county'])) * 100"
   ]
  },
  {
   "cell_type": "code",
   "execution_count": 57,
   "id": "e889b080",
   "metadata": {},
   "outputs": [
    {
     "name": "stdout",
     "output_type": "stream",
     "text": [
      "there are 63 nans\n"
     ]
    },
    {
     "data": {
      "text/plain": [
       "county_name\n",
       "Harjumaa         6\n",
       "Pärnumaa         5\n",
       "Võrumaa          5\n",
       "Saaremaa         4\n",
       "Tartumaa         4\n",
       "Lääne-Virumaa    4\n",
       "Ida-Virumaa      4\n",
       "Raplamaa         3\n",
       "Viljandimaa      3\n",
       "Järvamaa         3\n",
       "Jõgevamaa        3\n",
       "Läänemaa         2\n",
       "Hiiumaa          1\n",
       "Valgamaa         1\n",
       "Põlvamaa         1\n",
       "Name: count, dtype: int64"
      ]
     },
     "execution_count": 57,
     "metadata": {},
     "output_type": "execute_result"
    }
   ],
   "source": [
    "print(\"there are\", df_station_to_county.county_name.isna().sum(), \"nans\")\n",
    "df_station_to_county.county_name.value_counts()"
   ]
  },
  {
   "cell_type": "code",
   "execution_count": 58,
   "id": "981e7cfc",
   "metadata": {},
   "outputs": [],
   "source": [
    "# it would be used instead of df_station_to_county.county_name\n",
    "df_location=pd.read_csv(r\"C:\\Users\\mrdel\\Desktop\\BootCamp\\Capstone Project\\Capstone Datasets\\predict-energy-behavior-of-prosumers\\county_lon_lats.csv\")"
   ]
  },
  {
   "cell_type": "code",
   "execution_count": 59,
   "id": "61d16b8c",
   "metadata": {
    "scrolled": true
   },
   "outputs": [
    {
     "data": {
      "text/html": [
       "<div>\n",
       "<style scoped>\n",
       "    .dataframe tbody tr th:only-of-type {\n",
       "        vertical-align: middle;\n",
       "    }\n",
       "\n",
       "    .dataframe tbody tr th {\n",
       "        vertical-align: top;\n",
       "    }\n",
       "\n",
       "    .dataframe thead th {\n",
       "        text-align: right;\n",
       "    }\n",
       "</style>\n",
       "<table border=\"1\" class=\"dataframe\">\n",
       "  <thead>\n",
       "    <tr style=\"text-align: right;\">\n",
       "      <th></th>\n",
       "      <th>Unnamed: 0</th>\n",
       "      <th>county</th>\n",
       "      <th>longitude</th>\n",
       "      <th>latitude</th>\n",
       "    </tr>\n",
       "  </thead>\n",
       "  <tbody>\n",
       "    <tr>\n",
       "      <th>0</th>\n",
       "      <td>0</td>\n",
       "      <td>0</td>\n",
       "      <td>24.2</td>\n",
       "      <td>59.1</td>\n",
       "    </tr>\n",
       "    <tr>\n",
       "      <th>1</th>\n",
       "      <td>1</td>\n",
       "      <td>0</td>\n",
       "      <td>25.2</td>\n",
       "      <td>59.1</td>\n",
       "    </tr>\n",
       "    <tr>\n",
       "      <th>2</th>\n",
       "      <td>2</td>\n",
       "      <td>0</td>\n",
       "      <td>23.7</td>\n",
       "      <td>59.4</td>\n",
       "    </tr>\n",
       "    <tr>\n",
       "      <th>3</th>\n",
       "      <td>3</td>\n",
       "      <td>0</td>\n",
       "      <td>24.2</td>\n",
       "      <td>59.4</td>\n",
       "    </tr>\n",
       "    <tr>\n",
       "      <th>4</th>\n",
       "      <td>4</td>\n",
       "      <td>0</td>\n",
       "      <td>24.7</td>\n",
       "      <td>59.4</td>\n",
       "    </tr>\n",
       "  </tbody>\n",
       "</table>\n",
       "</div>"
      ],
      "text/plain": [
       "   Unnamed: 0  county  longitude  latitude\n",
       "0           0       0       24.2      59.1\n",
       "1           1       0       25.2      59.1\n",
       "2           2       0       23.7      59.4\n",
       "3           3       0       24.2      59.4\n",
       "4           4       0       24.7      59.4"
      ]
     },
     "execution_count": 59,
     "metadata": {},
     "output_type": "execute_result"
    }
   ],
   "source": [
    "df_location.head()"
   ]
  },
  {
   "cell_type": "code",
   "execution_count": 60,
   "id": "e67217a2",
   "metadata": {},
   "outputs": [
    {
     "name": "stdout",
     "output_type": "stream",
     "text": [
      "<class 'pandas.core.frame.DataFrame'>\n",
      "RangeIndex: 75 entries, 0 to 74\n",
      "Data columns (total 4 columns):\n",
      " #   Column      Non-Null Count  Dtype  \n",
      "---  ------      --------------  -----  \n",
      " 0   Unnamed: 0  75 non-null     int64  \n",
      " 1   county      75 non-null     int64  \n",
      " 2   longitude   75 non-null     float64\n",
      " 3   latitude    75 non-null     float64\n",
      "dtypes: float64(2), int64(2)\n",
      "memory usage: 2.5 KB\n"
     ]
    }
   ],
   "source": [
    "df_location.info()"
   ]
  },
  {
   "cell_type": "code",
   "execution_count": 61,
   "id": "8af07e7f",
   "metadata": {},
   "outputs": [
    {
     "data": {
      "text/plain": [
       "Unnamed: 0    0\n",
       "county        0\n",
       "longitude     0\n",
       "latitude      0\n",
       "dtype: int64"
      ]
     },
     "execution_count": 61,
     "metadata": {},
     "output_type": "execute_result"
    }
   ],
   "source": [
    "df_location.isna().sum()"
   ]
  },
  {
   "cell_type": "code",
   "execution_count": 62,
   "id": "5a76dc88",
   "metadata": {},
   "outputs": [
    {
     "data": {
      "text/plain": [
       "{'0': 'HARJUMAA',\n",
       " '1': 'HIIUMAA',\n",
       " '2': 'IDA-VIRUMAA',\n",
       " '3': 'JÄRVAMAA',\n",
       " '4': 'JÕGEVAMAA',\n",
       " '5': 'LÄÄNE-VIRUMAA',\n",
       " '6': 'LÄÄNEMAA',\n",
       " '7': 'PÄRNUMAA',\n",
       " '8': 'PÕLVAMAA',\n",
       " '9': 'RAPLAMAA',\n",
       " '10': 'SAAREMAA',\n",
       " '11': 'TARTUMAA',\n",
       " '12': 'UNKNOWN',\n",
       " '13': 'VALGAMAA',\n",
       " '14': 'VILJANDIMAA',\n",
       " '15': 'VÕRUMAA'}"
      ]
     },
     "execution_count": 62,
     "metadata": {},
     "output_type": "execute_result"
    }
   ],
   "source": [
    "import json\n",
    "f = open(r\"C:\\Users\\mrdel\\Desktop\\BootCamp\\Capstone Project\\Capstone Datasets\\predict-energy-behavior-of-prosumers\\county_id_to_name_map.json\")\n",
    "json.load(f)"
   ]
  },
  {
   "cell_type": "markdown",
   "id": "b45af012",
   "metadata": {},
   "source": [
    "# EDA & Preprocessing\n",
    "#### Exploring the content of each dataframe\n",
    "* **`Type Casting and Renaming`**: The function starts by casting the latitude and longitude columns to Float32 for efficiency in df_weather_station_to_county_mapping. It also renames columns in df_gas_prices and df_electricity_prices for consistency.\n",
    "* **`Aggregating Target Data`**: It aggregates target data in df_target by grouping on certain columns and summing up the targets, creating a summarized view.\n",
    "* **`Weather Data Processing`**: The function processes both forecast and historical weather data (df_forecast_weather and df_historical_weather) by renaming columns, filtering, and joining with the weather station to county mapping data.\n",
    "* **`Creating Average Weather Characteristics`**: It calculates average weather characteristics for both types of weather data, providing a summarized view of weather conditions.\n",
    "* **`Feature Engineering and Joining Dataframes`**: The main dataframe, train_merged, is enriched with additional features through a series of join operations with other dataframes. These operations include joining lagged gas prices, client data, electricity prices, weather data, and aggregated target data.\n",
    "* **`Extracting Time-Related Features`**: The function extracts and calculates various time-related features like the ordinal day, hour, and cyclical features using sine and cosine transformations.\n",
    "* **`Final Dataframe Preparation`**: Finally, unnecessary columns are dropped, and the processed dataframe is returned, ready for use in predictive modeling."
   ]
  },
  {
   "cell_type": "markdown",
   "id": "7c258d94",
   "metadata": {},
   "source": [
    "***df_train***\n",
    "* **county** - An ID code for the county.\n",
    "* **is_business** - Boolean for whether or not the prosumer is a business.\n",
    "* **product_type** - ID code with the following mapping of codes to contract types: {0: \"Combined\", 1: \"Fixed\", 2: \"General service\", 3: \"Spot\"}.\n",
    "* **target** - The consumption or production amount for the relevant segment for the hour. The segments are defined by the county, is_business, and product_type.\n",
    "* **is_consumption** - Boolean for whether or not this row's target is consumption or production.\n",
    "* **datetime** - The Estonian time in EET (UTC+2) / EEST (UTC+3).\n",
    "* **data_block_id** - All rows sharing the same data_block_id will be available at the same forecast time. This is a function of what information is available when forecasts are actually made, at 11 AM each morning. For example, if the forecast weather data_block_id for predictins made on October 31st is 100 then the historic weather data_block_id for October 31st will be 101 as the historic weather data is only actually available the next day.\n",
    "* **row_id** - A unique identifier for the row.\n",
    "* **prediction_unit_id** - A unique identifier for the county, is_business, and product_type combination. New prediction units can appear or disappear in the test set."
   ]
  },
  {
   "cell_type": "code",
   "execution_count": 96,
   "id": "1da95f19",
   "metadata": {},
   "outputs": [],
   "source": [
    "df_train_consumption = df_train[df_train[\"is_consumption\"]==1]\n",
    "monthly_consumption = df_train_consumption.groupby(pd.Grouper(key=\"datetime\", freq='M')).mean()\n",
    "weekly_consumption = df_train_consumption.groupby(pd.Grouper(key=\"datetime\", freq='W')).mean()\n",
    "daily_consumption = df_train_consumption.groupby(pd.Grouper(key=\"datetime\", freq='D')).mean()\n",
    "mean_consumption = df_train_consumption.target.mean()\n",
    "df_train_production = df_train[df_train[\"is_consumption\"]==0]\n",
    "monthly_production = df_train_production.groupby(pd.Grouper(key=\"datetime\", freq='M')).mean()\n",
    "weekly_production = df_train_production.groupby(pd.Grouper(key=\"datetime\", freq='W')).mean()\n",
    "daily_production = df_train_production.groupby(pd.Grouper(key=\"datetime\", freq='D')).mean()\n",
    "mean_production = df_train_production.target.mean()"
   ]
  },
  {
   "cell_type": "code",
   "execution_count": 65,
   "id": "f94d88a0",
   "metadata": {},
   "outputs": [
    {
     "data": {
      "text/html": [
       "<div>\n",
       "<style scoped>\n",
       "    .dataframe tbody tr th:only-of-type {\n",
       "        vertical-align: middle;\n",
       "    }\n",
       "\n",
       "    .dataframe tbody tr th {\n",
       "        vertical-align: top;\n",
       "    }\n",
       "\n",
       "    .dataframe thead th {\n",
       "        text-align: right;\n",
       "    }\n",
       "</style>\n",
       "<table border=\"1\" class=\"dataframe\">\n",
       "  <thead>\n",
       "    <tr style=\"text-align: right;\">\n",
       "      <th></th>\n",
       "      <th>county</th>\n",
       "      <th>is_business</th>\n",
       "      <th>product_type</th>\n",
       "      <th>target</th>\n",
       "      <th>is_consumption</th>\n",
       "      <th>datetime</th>\n",
       "      <th>data_block_id</th>\n",
       "      <th>row_id</th>\n",
       "      <th>prediction_unit_id</th>\n",
       "    </tr>\n",
       "  </thead>\n",
       "  <tbody>\n",
       "    <tr>\n",
       "      <th>0</th>\n",
       "      <td>0</td>\n",
       "      <td>0</td>\n",
       "      <td>1</td>\n",
       "      <td>0.713</td>\n",
       "      <td>0</td>\n",
       "      <td>2021-09-01</td>\n",
       "      <td>0</td>\n",
       "      <td>0</td>\n",
       "      <td>0</td>\n",
       "    </tr>\n",
       "    <tr>\n",
       "      <th>1</th>\n",
       "      <td>0</td>\n",
       "      <td>0</td>\n",
       "      <td>1</td>\n",
       "      <td>96.590</td>\n",
       "      <td>1</td>\n",
       "      <td>2021-09-01</td>\n",
       "      <td>0</td>\n",
       "      <td>1</td>\n",
       "      <td>0</td>\n",
       "    </tr>\n",
       "    <tr>\n",
       "      <th>2</th>\n",
       "      <td>0</td>\n",
       "      <td>0</td>\n",
       "      <td>2</td>\n",
       "      <td>0.000</td>\n",
       "      <td>0</td>\n",
       "      <td>2021-09-01</td>\n",
       "      <td>0</td>\n",
       "      <td>2</td>\n",
       "      <td>1</td>\n",
       "    </tr>\n",
       "    <tr>\n",
       "      <th>3</th>\n",
       "      <td>0</td>\n",
       "      <td>0</td>\n",
       "      <td>2</td>\n",
       "      <td>17.314</td>\n",
       "      <td>1</td>\n",
       "      <td>2021-09-01</td>\n",
       "      <td>0</td>\n",
       "      <td>3</td>\n",
       "      <td>1</td>\n",
       "    </tr>\n",
       "    <tr>\n",
       "      <th>4</th>\n",
       "      <td>0</td>\n",
       "      <td>0</td>\n",
       "      <td>3</td>\n",
       "      <td>2.904</td>\n",
       "      <td>0</td>\n",
       "      <td>2021-09-01</td>\n",
       "      <td>0</td>\n",
       "      <td>4</td>\n",
       "      <td>2</td>\n",
       "    </tr>\n",
       "  </tbody>\n",
       "</table>\n",
       "</div>"
      ],
      "text/plain": [
       "   county  is_business  product_type  ...  data_block_id  row_id prediction_unit_id\n",
       "0       0            0             1  ...              0       0                  0\n",
       "1       0            0             1  ...              0       1                  0\n",
       "2       0            0             2  ...              0       2                  1\n",
       "3       0            0             2  ...              0       3                  1\n",
       "4       0            0             3  ...              0       4                  2\n",
       "\n",
       "[5 rows x 9 columns]"
      ]
     },
     "execution_count": 65,
     "metadata": {},
     "output_type": "execute_result"
    }
   ],
   "source": [
    "df_train.head()"
   ]
  },
  {
   "cell_type": "code",
   "execution_count": 97,
   "id": "dcc94a17",
   "metadata": {},
   "outputs": [
    {
     "data": {
      "text/html": [
       "<div>\n",
       "<style scoped>\n",
       "    .dataframe tbody tr th:only-of-type {\n",
       "        vertical-align: middle;\n",
       "    }\n",
       "\n",
       "    .dataframe tbody tr th {\n",
       "        vertical-align: top;\n",
       "    }\n",
       "\n",
       "    .dataframe thead th {\n",
       "        text-align: right;\n",
       "    }\n",
       "</style>\n",
       "<table border=\"1\" class=\"dataframe\">\n",
       "  <thead>\n",
       "    <tr style=\"text-align: right;\">\n",
       "      <th></th>\n",
       "      <th>county</th>\n",
       "      <th>is_business</th>\n",
       "      <th>product_type</th>\n",
       "      <th>target</th>\n",
       "      <th>is_consumption</th>\n",
       "      <th>data_block_id</th>\n",
       "      <th>row_id</th>\n",
       "      <th>prediction_unit_id</th>\n",
       "      <th>year</th>\n",
       "      <th>month</th>\n",
       "      <th>day</th>\n",
       "      <th>hour</th>\n",
       "      <th>dayofweek</th>\n",
       "      <th>dayofyear</th>\n",
       "    </tr>\n",
       "    <tr>\n",
       "      <th>datetime</th>\n",
       "      <th></th>\n",
       "      <th></th>\n",
       "      <th></th>\n",
       "      <th></th>\n",
       "      <th></th>\n",
       "      <th></th>\n",
       "      <th></th>\n",
       "      <th></th>\n",
       "      <th></th>\n",
       "      <th></th>\n",
       "      <th></th>\n",
       "      <th></th>\n",
       "      <th></th>\n",
       "      <th></th>\n",
       "    </tr>\n",
       "  </thead>\n",
       "  <tbody>\n",
       "    <tr>\n",
       "      <th>2021-09-01</th>\n",
       "      <td>7.393443</td>\n",
       "      <td>0.508197</td>\n",
       "      <td>2.0</td>\n",
       "      <td>351.045052</td>\n",
       "      <td>1.0</td>\n",
       "      <td>0.0</td>\n",
       "      <td>1464.0</td>\n",
       "      <td>30.0</td>\n",
       "      <td>2021.0</td>\n",
       "      <td>9.0</td>\n",
       "      <td>1.0</td>\n",
       "      <td>11.5</td>\n",
       "      <td>2.0</td>\n",
       "      <td>244.0</td>\n",
       "    </tr>\n",
       "    <tr>\n",
       "      <th>2021-09-02</th>\n",
       "      <td>7.393443</td>\n",
       "      <td>0.508197</td>\n",
       "      <td>2.0</td>\n",
       "      <td>354.445564</td>\n",
       "      <td>1.0</td>\n",
       "      <td>1.0</td>\n",
       "      <td>4392.0</td>\n",
       "      <td>30.0</td>\n",
       "      <td>2021.0</td>\n",
       "      <td>9.0</td>\n",
       "      <td>2.0</td>\n",
       "      <td>11.5</td>\n",
       "      <td>3.0</td>\n",
       "      <td>245.0</td>\n",
       "    </tr>\n",
       "    <tr>\n",
       "      <th>2021-09-03</th>\n",
       "      <td>7.393443</td>\n",
       "      <td>0.508197</td>\n",
       "      <td>2.0</td>\n",
       "      <td>360.600936</td>\n",
       "      <td>1.0</td>\n",
       "      <td>2.0</td>\n",
       "      <td>7320.0</td>\n",
       "      <td>30.0</td>\n",
       "      <td>2021.0</td>\n",
       "      <td>9.0</td>\n",
       "      <td>3.0</td>\n",
       "      <td>11.5</td>\n",
       "      <td>4.0</td>\n",
       "      <td>246.0</td>\n",
       "    </tr>\n",
       "    <tr>\n",
       "      <th>2021-09-04</th>\n",
       "      <td>7.393443</td>\n",
       "      <td>0.508197</td>\n",
       "      <td>2.0</td>\n",
       "      <td>254.962020</td>\n",
       "      <td>1.0</td>\n",
       "      <td>3.0</td>\n",
       "      <td>10248.0</td>\n",
       "      <td>30.0</td>\n",
       "      <td>2021.0</td>\n",
       "      <td>9.0</td>\n",
       "      <td>4.0</td>\n",
       "      <td>11.5</td>\n",
       "      <td>5.0</td>\n",
       "      <td>247.0</td>\n",
       "    </tr>\n",
       "    <tr>\n",
       "      <th>2021-09-05</th>\n",
       "      <td>7.393443</td>\n",
       "      <td>0.508197</td>\n",
       "      <td>2.0</td>\n",
       "      <td>250.662279</td>\n",
       "      <td>1.0</td>\n",
       "      <td>4.0</td>\n",
       "      <td>13176.0</td>\n",
       "      <td>30.0</td>\n",
       "      <td>2021.0</td>\n",
       "      <td>9.0</td>\n",
       "      <td>5.0</td>\n",
       "      <td>11.5</td>\n",
       "      <td>6.0</td>\n",
       "      <td>248.0</td>\n",
       "    </tr>\n",
       "  </tbody>\n",
       "</table>\n",
       "</div>"
      ],
      "text/plain": [
       "              county  is_business  product_type  ...  hour  dayofweek  dayofyear\n",
       "datetime                                         ...                            \n",
       "2021-09-01  7.393443     0.508197           2.0  ...  11.5        2.0      244.0\n",
       "2021-09-02  7.393443     0.508197           2.0  ...  11.5        3.0      245.0\n",
       "2021-09-03  7.393443     0.508197           2.0  ...  11.5        4.0      246.0\n",
       "2021-09-04  7.393443     0.508197           2.0  ...  11.5        5.0      247.0\n",
       "2021-09-05  7.393443     0.508197           2.0  ...  11.5        6.0      248.0\n",
       "\n",
       "[5 rows x 14 columns]"
      ]
     },
     "execution_count": 97,
     "metadata": {},
     "output_type": "execute_result"
    }
   ],
   "source": [
    "daily_consumption.head()"
   ]
  },
  {
   "cell_type": "code",
   "execution_count": 78,
   "id": "d8b0b237",
   "metadata": {},
   "outputs": [
    {
     "data": {
      "text/plain": [
       "[Text(0.5, 1.0, 'distribution of target')]"
      ]
     },
     "execution_count": 78,
     "metadata": {},
     "output_type": "execute_result"
    },
    {
     "data": {
      "image/png": "[encoded data removed]",
      "text/plain": [
       "<Figure size 640x480 with 1 Axes>"
      ]
     },
     "metadata": {},
     "output_type": "display_data"
    }
   ],
   "source": [
    "sns.set_style(\"whitegrid\")\n",
    "sns.kdeplot(data = df_train, x = 'target').set(title = 'distribution of target')"
   ]
  },
  {
   "cell_type": "code",
   "execution_count": 79,
   "id": "449e5b2b",
   "metadata": {},
   "outputs": [
    {
     "data": {
      "image/png": "[encoded data removed]",
      "text/plain": [
       "<Figure size 640x480 with 1 Axes>"
      ]
     },
     "metadata": {},
     "output_type": "display_data"
    }
   ],
   "source": [
    "\n",
    "title = 'daily_consumption'\n",
    "title1 = 'daily production'\n",
    "sns.lineplot(data = daily_consumption, x = 'datetime', y = 'target',label=title).set(title = title)\n",
    "sns.lineplot(data = daily_production, x = 'datetime', y = 'target',label=title1).set(title = title1)\n",
    "plt.legend()\n",
    "plt.show()\n"
   ]
  },
  {
   "cell_type": "markdown",
   "id": "79f857ee",
   "metadata": {},
   "source": [
    "1. The plot shows the daily production and consumption over a period from October 2021 to July 2023. The blue line represents daily consumption, which fluctuates but generally increases over time. The orange line represents daily production, which also fluctuates and follows a similar trend as consumption but is consistently lower.\n",
    "2. \n",
    "- This is a line graph titled \"daily production\".\n",
    "- Two lines are plotted: one in blue labeled \"daily_consumption\" and another in orange labeled \"daily production\".\n",
    "- The x-axis is labeled \"datetime\" and shows a time span from October 2021 to July 2023.\n",
    "- The y-axis is labeled \"target\" with values ranging from 0 to 800.\n",
    "- Both lines show fluctuations over the given time period.\n",
    "- Daily consumption generally remains higher than daily production throughout the displayed timeframe.\n",
    "\n"
   ]
  },
  {
   "cell_type": "code",
   "execution_count": null,
   "id": "68314fcd",
   "metadata": {},
   "outputs": [],
   "source": [
    "title = 'Target distribution splitting by consumption and production\\n Consuption is much higher than production'\n",
    "sns.boxplot(data = df_train, x = 'is_consumption', y = 'target', showfliers = False).set(title = title)"
   ]
  },
  {
   "cell_type": "code",
   "execution_count": null,
   "id": "07534f73",
   "metadata": {},
   "outputs": [],
   "source": [
    "title = 'Target distribution splitting by county\\n Quite different distributions of target show up'\n",
    "sns.boxplot(data = df_train, x = 'county', y = 'target', hue = 'is_consumption', showfliers = False).set(title = title)"
   ]
  },
  {
   "cell_type": "code",
   "execution_count": null,
   "id": "0481e3db",
   "metadata": {
    "scrolled": true
   },
   "outputs": [],
   "source": [
    "title = 'Target distribution splitting by product_type\\n Product types 0 (Combined) and 3 (Spot) show higher values of target'\n",
    "sns.boxplot(data = df_train, x = 'product_type', y = 'target', hue = 'is_consumption', showfliers = False).set(title = title)"
   ]
  },
  {
   "cell_type": "code",
   "execution_count": null,
   "id": "3fc3757d",
   "metadata": {},
   "outputs": [],
   "source": [
    "sns.set(style=\"whitegrid\")\n",
    "plt.figure(figsize=(12, 6))\n",
    "sns.histplot(data=df_train, x='county', hue='is_business', multiple='stack', bins=30, alpha=0.7)\n",
    "plt.xlabel('County')\n",
    "plt.ylabel('Count')\n",
    "plt.title('Prosumer Distribution by County')\n",
    "legend_labels = ['Not Business', 'Is Business']\n",
    "plt.legend(legend_labels,title='Is Business', loc='upper right')\n",
    "plt.show()"
   ]
  },
  {
   "cell_type": "markdown",
   "id": "297cfdea",
   "metadata": {},
   "source": [
    "***df_client***\n",
    "* **product_type**\n",
    "* **county** - An ID code for the county. See county_id_to_name_map.json for the mapping of ID codes to county names.\n",
    "* **eic_count** - The aggregated number of consumption points (EICs - European Identifier Code).\n",
    "* **installed_capacity** - Installed photovoltaic solar panel capacity in kilowatts.\n",
    "* **is_business** - Boolean for whether or not the prosumer is a business.\n",
    "* **date**\n",
    "* **data_block_id**"
   ]
  },
  {
   "cell_type": "code",
   "execution_count": null,
   "id": "12dd0ea0",
   "metadata": {},
   "outputs": [],
   "source": [
    "title = 'Installed capacity by county'\n",
    "sns.boxplot(data = df_client, x = 'county', y = 'installed_capacity').set(title = title)"
   ]
  },
  {
   "cell_type": "code",
   "execution_count": null,
   "id": "7017c1d9",
   "metadata": {},
   "outputs": [],
   "source": [
    "title = 'Eic count by county\\n Notice the correlation between the Eic count and the consumption plotted before:\\n \\\n",
    "counties 0, 7, 11 have high consumption but also high Eic count!'\n",
    "sns.boxplot(data = df_client, x = 'county', y = 'eic_count').set(title = title)"
   ]
  },
  {
   "cell_type": "markdown",
   "id": "6cdeac67",
   "metadata": {},
   "source": [
    "***df_gasprices***\n",
    "* **origin_date** - The date when the day-ahead prices became available.\n",
    "* **forecast_date** - The date when the forecast prices should be relevant.\n",
    "* **[lowest/highest]_price_per_mwh** - The lowest/highest price of natural gas that on the day ahead market that trading day, in Euros per megawatt hour equivalent.\n",
    "* **data_block_id**"
   ]
  },
  {
   "cell_type": "code",
   "execution_count": null,
   "id": "f9d4f8f7",
   "metadata": {},
   "outputs": [],
   "source": [
    "import matplotlib.dates as mdates\n",
    "title = 'Prices per mwh'\n",
    "ax = sns.lineplot(data=df_gasprices, x='forecast_date', y='lowest_price_per_mwh', label='Lowest Price')\n",
    "sns.lineplot(data=df_gasprices, x='forecast_date', y='highest_price_per_mwh', label='Highest Price')\n",
    "ax.xaxis.set_major_locator(mdates.MonthLocator(interval=5))\n",
    "ax.set(title=title, ylabel='lowest_highest_price_per_mwh')\n",
    "plt.legend()\n",
    "\n",
    "plt.show()\n"
   ]
  },
  {
   "cell_type": "markdown",
   "id": "c219c949",
   "metadata": {},
   "source": [
    "***df_eleprices***"
   ]
  },
  {
   "cell_type": "code",
   "execution_count": null,
   "id": "f69be90e",
   "metadata": {},
   "outputs": [],
   "source": [
    "sns.set(style=\"whitegrid\")\n",
    "\n",
    "plt.figure(figsize=(10, 6))\n",
    "sns.histplot(df_eleprices['euros_per_mwh'], bins=30, kde=False, color='skyblue', edgecolor='black')\n",
    "\n",
    "plt.title('Electricity Prices Distribution', fontsize=16)\n",
    "plt.xlabel('Electricity Price (Euro/MWh)', fontsize=14)\n",
    "plt.ylabel('Frequency', fontsize=14)\n",
    "plt.grid(axis='y', linestyle='--', alpha=0.7)\n",
    "plt.show()"
   ]
  },
  {
   "cell_type": "markdown",
   "id": "8d390130",
   "metadata": {},
   "source": [
    "1. This plot shows the distribution of electricity prices. The x-axis represents the electricity price in Euro per MWh, and the y-axis represents the frequency of each price range. Most of the prices are concentrated between 0 to 500 Euro/MWh, with a very high frequency reaching up to 7000. The frequency decreases sharply as the price increases.\n",
    "\n",
    "2. \n",
    "- The image is a bar graph titled \"Electricity Prices Distribution.\"\n",
    "- The x-axis is labeled \"Electricity Price (Euro/MWh)\" and ranges from 0 to 4000.\n",
    "- The y-axis is labeled \"Frequency\" and ranges from 0 to 7000.\n",
    "- There are five bars in total, with different heights indicating their frequencies.\n",
    "- The first bar, representing prices from 0 to around 250 Euro/MWh, has the highest frequency reaching up to approximately 7000.\n",
    "- Frequencies decrease sharply for higher price ranges; for instance, prices between around 250 and 500 Euro/MWh have a frequency of about half compared to the first bar.\n",
    "- Bars representing prices above approximately 1000 Euro/MWh have negligible frequencies."
   ]
  },
  {
   "cell_type": "code",
   "execution_count": null,
   "id": "e57e9078",
   "metadata": {},
   "outputs": [],
   "source": [
    "title = 'Price per mwh'\n",
    "ax = sns.lineplot(data = df_eleprices, x = 'forecast_date', y = 'euros_per_mwh')\n",
    "ax.set(title = title)\n",
    "#ax.xaxis.set_major_locator(mdates.MonthLocator(interval=5))"
   ]
  },
  {
   "cell_type": "markdown",
   "id": "47c00537",
   "metadata": {},
   "source": [
    "***df_forweather***\n",
    "* **[latitude/longitude]** - The coordinates of the weather forecast.\n",
    "* **origin_datetime** - The timestamp of when the forecast was generated.\n",
    "* **hours_ahead** - The number of hours between the forecast generation and the forecast weather. Each forecast covers 48 hours in total.\n",
    "* **temperature** - The air temperature at 2 meters above ground in degrees Celsius.\n",
    "* **dewpoint** - The dew point temperature at 2 meters above ground in degrees Celsius.\n",
    "* **cloudcover_[low/mid/high/total]** - The percentage of the sky covered by clouds in the following altitude bands: 0-2 km, 2-6, 6+, and total.\n",
    "* **10metre[u/v]_wind_component** - The [eastward/northward] component of wind speed measured 10 meters above surface in meters per second.\n",
    "* **data_block_id**\n",
    "* **forecast_datetime** - The timestamp of the predicted weather. Generated from origin_datetime plus hours_ahead.\n",
    "* **direct_solar_radiation** - The direct solar radiation reaching the surface on a plane perpendicular to the direction of the Sun accumulated during the preceding hour, in watt-hours per square meter.\n",
    "* **surface_solar_radiation_downwards** - The solar radiation, both direct and diffuse, that reaches a horizontal plane at the surface of the Earth, in watt-hours per square meter.\n",
    "* **snowfall** - Snowfall over the previous hour in units of meters of water equivalent.\n",
    "* **total_precipitation** - The accumulated liquid, comprising rain and snow that falls on Earth's surface over the preceding hour, in units of meters.\n",
    "---"
   ]
  },
  {
   "cell_type": "markdown",
   "id": "7e7d8263",
   "metadata": {},
   "source": [
    "#### I would like to check that each latitude/longitude combination here has a match in the df_station_to_county dataframe"
   ]
  },
  {
   "cell_type": "code",
   "execution_count": null,
   "id": "6c0fe478",
   "metadata": {
    "scrolled": false
   },
   "outputs": [],
   "source": [
    "df_station_to_county['size'] = 5\n",
    "\n",
    "fig = px.scatter_mapbox(\n",
    "    df_station_to_county, \n",
    "    lat=\"latitude\", \n",
    "    lon=\"longitude\", \n",
    "    color=\"county\",\n",
    "    size='size',\n",
    "    zoom=6,\n",
    "    title='Weather Stations Locations'\n",
    ")\n",
    "\n",
    "fig.update_layout(mapbox_style=\"open-street-map\")\n",
    "fig.update_layout(margin={\"r\":0,\"t\":30,\"l\":0,\"b\":0})\n",
    "fig.show()"
   ]
  },
  {
   "cell_type": "code",
   "execution_count": null,
   "id": "72f9dd27",
   "metadata": {
    "scrolled": true
   },
   "outputs": [],
   "source": [
    "sns.set(style=\"whitegrid\")\n",
    "\n",
    "plt.figure(figsize=(10, 6))\n",
    "sns.histplot(df_forweather['10_metre_u_wind_component'], bins=30, kde=False, color='skyblue')\n",
    "\n",
    "plt.title('Wind Speed Distribution', fontsize=16)\n",
    "plt.xlabel('Wind Speed (m/s)', fontsize=14)\n",
    "plt.ylabel('Frequency', fontsize=14)\n",
    "\n",
    "plt.show()"
   ]
  },
  {
   "cell_type": "markdown",
   "id": "e077b51c",
   "metadata": {},
   "source": [
    "### df_hisweather\n",
    "* **datetime**\n",
    "* **temperature**\n",
    "* **dewpoint**\n",
    "* **rain** - Different from the forecast conventions. The rain from large scale weather systems of the preceding hour in millimeters.\n",
    "* **snowfall** - Different from the forecast conventions. Snowfall over the preceding hour in centimeters.\n",
    "* **surface_pressure** - The air pressure at surface in hectopascals.\n",
    "* **cloudcover_[low/mid/high/total]** - Different from the forecast conventions. Cloud cover at 0-3 km, 3-8, 8+, and total.\n",
    "* **windspeed_10m** - Different from the forecast conventions. The wind speed at 10 meters above ground in meters per second.\n",
    "* **winddirection_10m** - Different from the forecast conventions. The wind direction at 10 meters above ground in degrees.\n",
    "* **shortwave_radiation** - Different from the forecast conventions. The global horizontal irradiation in watt-hours per square meter.\n",
    "* **direct_solar_radiation**\n",
    "* **diffuse_radiation** - Different from the forecast conventions. The diffuse solar irradiation in watt-hours per square meter.\n",
    "* **[latitude/longitude]** - The coordinates of the weather station.\n",
    "data_block_id"
   ]
  },
  {
   "cell_type": "code",
   "execution_count": null,
   "id": "0c5421c4",
   "metadata": {},
   "outputs": [],
   "source": [
    "#plt.figure(figsize=(10, 6))\n",
    "#sns.lineplot(data=df_hisweather, x='datetime', y='rain')\n",
    "#plt.title('Historical Rainfall Over Time')\n",
    "#plt.xlabel('Datetime')\n",
    "#plt.ylabel('Rainfall (mm)')\n",
    "#plt.show()"
   ]
  },
  {
   "cell_type": "markdown",
   "id": "d29fe112",
   "metadata": {},
   "source": [
    "# Checking Correlation in Train dataset"
   ]
  },
  {
   "cell_type": "code",
   "execution_count": null,
   "id": "17f55131",
   "metadata": {},
   "outputs": [],
   "source": [
    "\n",
    "cols = [c for c in df_train.columns if c not in [\"datetime\", \"date\"]]\n",
    "\n",
    "correlation_matrix = df_train[cols].corr()\n",
    "\n",
    "plt.figure(figsize=(10, 8))\n",
    "heatmap = plt.imshow(correlation_matrix, cmap=\"viridis\", interpolation=\"none\")\n",
    "\n",
    "# Display correlation values in each cell\n",
    "for i in range(len(cols)):\n",
    "    for j in range(len(cols)):\n",
    "        plt.text(j, i, f\"{correlation_matrix.iloc[i, j]:.2f}\", ha='center', va='center', color='white')\n",
    "\n",
    "plt.colorbar(heatmap, label=\"Correlation\")\n",
    "plt.xticks(np.arange(len(cols)), cols, rotation=45)\n",
    "plt.yticks(np.arange(len(cols)), cols)\n",
    "plt.title(\"Correlation Heatmap\")\n",
    "plt.show()\n"
   ]
  },
  {
   "cell_type": "code",
   "execution_count": null,
   "id": "7d9a0207",
   "metadata": {},
   "outputs": [],
   "source": [
    "#fig, axes = plt.subplots(4, 3, figsize=(20, 15))\n",
    "#title = 'Some indicators for a randomly chosen station'\n",
    "\n",
    "# List of columns to plot\n",
    "#columns_to_plot = ['temperature', 'dewpoint', 'cloudcover_low', 'cloudcover_mid', 'cloudcover_high', \n",
    "                   #'cloudcover_total', '10_metre_u_wind_component', '10_metre_v_wind_component',\n",
    "                   #'direct_solar_radiation', 'surface_solar_radiation_downwards', 'snowfall', \n",
    "                   #'total_precipitation']\n",
    "\n",
    "#for i, column in enumerate(columns_to_plot):\n",
    "    #ax = axes[i // 3, i % 3]\n",
    "    #sns.lineplot(data=df_forweather, x='forecast_datetime', y=column, ax=ax)\n",
    "    #ax.xaxis.set_major_locator(mdates.MonthLocator(interval=5))\n",
    "    #ax.set_title(column)  # Set subplot title to the column name\n",
    "\n",
    "# Adjust layout and add a main title\n",
    "#plt.suptitle(title)\n",
    "#plt.tight_layout()\n",
    "#plt.show()"
   ]
  },
  {
   "cell_type": "code",
   "execution_count": 80,
   "id": "c0be22cb",
   "metadata": {},
   "outputs": [],
   "source": [
    "#Renaming (forecast_date) to (datetime) for merging with the train data later\n",
    "df_eleprices =df_eleprices.rename(columns= {'forecast_date' : 'datetime'})"
   ]
  },
  {
   "cell_type": "code",
   "execution_count": 81,
   "id": "44dc2049",
   "metadata": {},
   "outputs": [],
   "source": [
    "#Decreasing (data_block_id) in client data because it's 2 steps ahead from train's data (data_block_id)\n",
    "df_client['data_block_id'] -= 2"
   ]
  },
  {
   "cell_type": "code",
   "execution_count": 82,
   "id": "283c3a16",
   "metadata": {},
   "outputs": [],
   "source": [
    " \"\"\"locations is a custom data that will help replace (latitude) and (longitude)\n",
    "    columns by the counties for each coordination | you can find the data in Input \"\"\"\n",
    "df_location=df_location.drop('Unnamed: 0', axis= 1) "
   ]
  },
  {
   "cell_type": "code",
   "execution_count": 83,
   "id": "138d0d4e",
   "metadata": {},
   "outputs": [
    {
     "name": "stderr",
     "output_type": "stream",
     "text": [
      "C:\\Users\\mrdel\\AppData\\Local\\Temp\\ipykernel_20596\\3383276969.py:23: UserWarning: Converting to PeriodArray/Index representation will drop timezone information.\n",
      "  forecast_weather_datetime= df_forweather.groupby([df_forweather['datetime'].dt.to_period('h')])[list(df_forweather.drop(['county','datetime'], axis= 1).columns)].mean().reset_index()\n",
      "C:\\Users\\mrdel\\AppData\\Local\\Temp\\ipykernel_20596\\3383276969.py:29: UserWarning: Converting to PeriodArray/Index representation will drop timezone information.\n",
      "  forecast_weather_datetime_county= df_forweather.groupby(['county',df_forweather['datetime'].dt.to_period('h')])[list(df_forweather.drop(['county','datetime'], axis= 1).columns)].mean().reset_index()\n"
     ]
    }
   ],
   "source": [
    "#Rounding the (latitude) and (longitude) for 1 decimal fraction\n",
    "df_forweather[['latitude', 'longitude']] = df_forweather[['latitude','longitude']].astype(float).round(1)\n",
    "        \n",
    "#Merging counties in locations data with the coordinations in the forecast_weather data\n",
    "df_forweather= df_forweather.merge(df_location, how='left',on=['longitude','latitude'])\n",
    "        \n",
    "#dropping nan values\n",
    "df_forweather.dropna(axis= 0, inplace= True)    \n",
    "    \n",
    "#Converting (county) column to integer\n",
    "df_forweather['county'] = df_forweather['county'].astype('int64')\n",
    "    \n",
    "#Dropping the columns we won't need | We will use the (forecast_datetime) column instead of the (origin_datetime)\n",
    "df_forweather.drop(['origin_datetime', 'latitude','longitude', 'hours_ahead', 'data_block_id'], axis=1, inplace= True)\n",
    "    \n",
    "#Renaming (forecast_datetime) to (datetime) for merging with the train data later\n",
    "df_forweather.rename(columns={'forecast_datetime': 'datetime'}, inplace= True)\n",
    "    \n",
    "#Converting (datetime) column to datetime\n",
    "df_forweather['datetime']= pd.to_datetime(df_forweather['datetime'], utc= True)\n",
    "    \n",
    "#Grouping all forecast_weather columns mean values by hour, So each hour will have the mean values of the forecast_weather columns\n",
    "forecast_weather_datetime= df_forweather.groupby([df_forweather['datetime'].dt.to_period('h')])[list(df_forweather.drop(['county','datetime'], axis= 1).columns)].mean().reset_index()\n",
    "    \n",
    "#After converting the (datetime) column to hour period for the groupby we convert it back to datetime\n",
    "forecast_weather_datetime['datetime']= pd.to_datetime(forecast_weather_datetime['datetime'].dt.to_timestamp(), utc=True)\n",
    "    \n",
    "#Grouping all forecast_weather columns mean values by hour and county, So each hour and county will have the mean values of the forecast_weather columns for each county. \n",
    "forecast_weather_datetime_county= df_forweather.groupby(['county',df_forweather['datetime'].dt.to_period('h')])[list(df_forweather.drop(['county','datetime'], axis= 1).columns)].mean().reset_index()\n",
    "    \n",
    "#After converting the (datetime) column to hour period for the groupby we convert it back to datetime\n",
    "forecast_weather_datetime_county['datetime']= pd.to_datetime(forecast_weather_datetime_county['datetime'].dt.to_timestamp(), utc=True)"
   ]
  },
  {
   "cell_type": "code",
   "execution_count": 84,
   "id": "0fb808de",
   "metadata": {},
   "outputs": [
    {
     "name": "stderr",
     "output_type": "stream",
     "text": [
      "C:\\Users\\mrdel\\AppData\\Local\\Temp\\ipykernel_20596\\2466305496.py:20: UserWarning: Converting to PeriodArray/Index representation will drop timezone information.\n",
      "  hist_weather_datetime= df_hisweather.groupby([df_hisweather['datetime'].dt.to_period('h')])[list(df_hisweather.drop(['county','datetime','data_block_id'], axis= 1).columns)].mean().reset_index()\n",
      "C:\\Users\\mrdel\\AppData\\Local\\Temp\\ipykernel_20596\\2466305496.py:29: UserWarning: Converting to PeriodArray/Index representation will drop timezone information.\n",
      "  hist_weather_datetime_county= df_hisweather.groupby(['county',df_hisweather['datetime'].dt.to_period('h')])[list(df_hisweather.drop(['county','datetime', 'data_block_id'], axis= 1).columns)].mean().reset_index()\n"
     ]
    }
   ],
   "source": [
    "#Rounding the (latitude) and (longitude) for 1 decimal fraction           \n",
    "df_hisweather[['latitude', 'longitude']] = df_hisweather[['latitude', 'longitude']].astype(float).round(1)\n",
    "\n",
    "#Merging counties in locations data with the coordinations in the historical_weather data\n",
    "df_hisweather= df_hisweather.merge(df_location, how='left', on=['longitude','latitude'])    \n",
    "    \n",
    "#Dropping nan values\n",
    "df_hisweather.dropna(axis= 0, inplace= True)\n",
    "    \n",
    "#Dropping the columns we won't need\n",
    "df_hisweather.drop(['latitude', 'longitude'], axis=1, inplace= True)\n",
    "    \n",
    "#Converting (county) to integer\n",
    "df_hisweather['county'] = df_hisweather['county'].astype('int64')\n",
    "    \n",
    "#Converting (datetime) column to datetime\n",
    "df_hisweather['datetime']= pd.to_datetime(df_hisweather['datetime'], utc= True)\n",
    "    \n",
    "#Grouping all historical_weather columns mean values by hour, So each hour will have the mean values of the historical_weather columns\"\"\"     \n",
    "hist_weather_datetime= df_hisweather.groupby([df_hisweather['datetime'].dt.to_period('h')])[list(df_hisweather.drop(['county','datetime','data_block_id'], axis= 1).columns)].mean().reset_index()    \n",
    "    \n",
    "#After converting the (datetime) column to hour period for the groupby we convert it back to datetime\n",
    "hist_weather_datetime['datetime']= pd.to_datetime(hist_weather_datetime['datetime'].dt.to_timestamp(), utc=True)\n",
    "    \n",
    "#Merging (data_block_id) back after dropping it in the last step | (data_block_id will be used to merge with train data)\n",
    "hist_weather_datetime= hist_weather_datetime.merge(df_hisweather[['datetime', 'data_block_id']], how='left', on='datetime')\n",
    "    \n",
    "#Grouping all historical_weather columns mean values by hour and county, So each hour will have the mean values of the historical_weather columns for each county\"\"\"   \n",
    "hist_weather_datetime_county= df_hisweather.groupby(['county',df_hisweather['datetime'].dt.to_period('h')])[list(df_hisweather.drop(['county','datetime', 'data_block_id'], axis= 1).columns)].mean().reset_index() \n",
    "    \n",
    "#After converting the (datetime) column to hour period for the groupby we convert it back to datetime\n",
    "hist_weather_datetime_county['datetime']= pd.to_datetime(hist_weather_datetime_county['datetime'].dt.to_timestamp(), utc=True)\n",
    "    \n",
    "#Merging (data_block_id) back after dropping it in the last step\n",
    "hist_weather_datetime_county= hist_weather_datetime_county.merge(df_hisweather[['datetime', 'data_block_id']], how='left', on='datetime')"
   ]
  },
  {
   "cell_type": "code",
   "execution_count": 85,
   "id": "204d9f95",
   "metadata": {},
   "outputs": [
    {
     "name": "stdout",
     "output_type": "stream",
     "text": [
      "<class 'pandas.core.frame.DataFrame'>\n",
      "RangeIndex: 15312 entries, 0 to 15311\n",
      "Data columns (total 13 columns):\n",
      " #   Column                             Non-Null Count  Dtype              \n",
      "---  ------                             --------------  -----              \n",
      " 0   datetime                           15312 non-null  datetime64[ns, UTC]\n",
      " 1   temperature                        15312 non-null  float64            \n",
      " 2   dewpoint                           15312 non-null  float64            \n",
      " 3   cloudcover_high                    15312 non-null  float64            \n",
      " 4   cloudcover_low                     15312 non-null  float64            \n",
      " 5   cloudcover_mid                     15312 non-null  float64            \n",
      " 6   cloudcover_total                   15312 non-null  float64            \n",
      " 7   10_metre_u_wind_component          15312 non-null  float64            \n",
      " 8   10_metre_v_wind_component          15312 non-null  float64            \n",
      " 9   direct_solar_radiation             15312 non-null  float64            \n",
      " 10  surface_solar_radiation_downwards  15312 non-null  float64            \n",
      " 11  snowfall                           15312 non-null  float64            \n",
      " 12  total_precipitation                15312 non-null  float64            \n",
      "dtypes: datetime64[ns, UTC](1), float64(12)\n",
      "memory usage: 1.5 MB\n"
     ]
    }
   ],
   "source": [
    "forecast_weather_datetime.info()"
   ]
  },
  {
   "cell_type": "code",
   "execution_count": 86,
   "id": "719289ca",
   "metadata": {},
   "outputs": [],
   "source": [
    "forecast_weather_datetime['datetime'] = pd.to_datetime(forecast_weather_datetime['datetime']).dt.tz_localize(None)"
   ]
  },
  {
   "cell_type": "code",
   "execution_count": 87,
   "id": "3c1a9c70",
   "metadata": {},
   "outputs": [],
   "source": [
    "forecast_weather_datetime_county['datetime'] = pd.to_datetime(forecast_weather_datetime_county['datetime']).dt.tz_localize(None)"
   ]
  },
  {
   "cell_type": "code",
   "execution_count": 94,
   "id": "44ed76f1",
   "metadata": {},
   "outputs": [
    {
     "name": "stdout",
     "output_type": "stream",
     "text": [
      "<class 'pandas.core.frame.DataFrame'>\n",
      "Index: 2017824 entries, 0 to 2018351\n",
      "Data columns (total 15 columns):\n",
      " #   Column              Dtype         \n",
      "---  ------              -----         \n",
      " 0   county              int64         \n",
      " 1   is_business         int64         \n",
      " 2   product_type        int64         \n",
      " 3   target              float64       \n",
      " 4   is_consumption      int64         \n",
      " 5   datetime            datetime64[ns]\n",
      " 6   data_block_id       int64         \n",
      " 7   row_id              int64         \n",
      " 8   prediction_unit_id  int64         \n",
      " 9   year                int32         \n",
      " 10  month               int32         \n",
      " 11  day                 int32         \n",
      " 12  hour                int32         \n",
      " 13  dayofweek           int32         \n",
      " 14  dayofyear           int32         \n",
      "dtypes: datetime64[ns](1), float64(1), int32(6), int64(7)\n",
      "memory usage: 200.1 MB\n"
     ]
    }
   ],
   "source": [
    "df_train.info()"
   ]
  },
  {
   "cell_type": "code",
   "execution_count": 88,
   "id": "c054a632",
   "metadata": {},
   "outputs": [],
   "source": [
    "#Adding year column in train data\n",
    "df_train['year'] = df_train['datetime'].dt.year\n",
    "    \n",
    "#Adding month column in train data\n",
    "df_train['month'] =df_train['datetime'].dt.month\n",
    "    \n",
    "#Adding day column in train data\n",
    "df_train['day'] = df_train['datetime'].dt.day\n",
    "    \n",
    "#Adding hour column in train data\n",
    "df_train['hour'] = df_train['datetime'].dt.hour\n",
    "    \n",
    "#Adding dayofweek column in train data\n",
    "df_train['dayofweek'] = df_train['datetime'].dt.dayofweek\n",
    "    \n",
    "#Adding dayofyear column in train data\n",
    "df_train['dayofyear']= df_train['datetime'].dt.dayofyear\n",
    "    \n",
    "#Adding hour column to electricity used to merge with the train data\n",
    "df_eleprices['hour'] = df_eleprices['datetime'].dt.hour\n",
    "\n",
    "#Merging train data with client data\n",
    "train_merged= df_train.merge(df_client.drop(columns = ['date']), how='left', on=['data_block_id', 'county', 'is_business', 'product_type'])\n",
    "    \n",
    "#Merging train data with gas data\n",
    "train_merged= train_merged.merge(df_gasprices[['data_block_id', 'lowest_price_per_mwh', 'highest_price_per_mwh']], how='left', on='data_block_id')\n",
    "    \n",
    "#Merging train data with electricity data    \n",
    "train_merged= train_merged.merge(df_eleprices[['euros_per_mwh', 'hour', 'data_block_id']], how='left', on=['hour', 'data_block_id'])\n",
    "    \n",
    "#Merging train data with forecast_weather_datetime data    \n",
    "train_merged= train_merged.merge(forecast_weather_datetime, how='left', on=['datetime'])\n",
    "    \n",
    "#Merging train data with forecast_weather_datetime_county data    \n",
    "train_merged= train_merged.merge(forecast_weather_datetime_county, how='left', on=['datetime', 'county'],\n",
    "                     suffixes= ('_fcast_mean','_fcast_mean_by_county'))\n",
    "    \n",
    "#Creating hour columns in both historical_weather data | used to merge both data with the train data\n",
    "hist_weather_datetime['hour']= hist_weather_datetime['datetime'].dt.hour\n",
    "hist_weather_datetime_county['hour']= hist_weather_datetime_county['datetime'].dt.hour\n",
    "\n",
    "#Dropping duplicates and (datetime) column\n",
    "hist_weather_datetime.drop_duplicates(inplace=True)\n",
    "hist_weather_datetime_county.drop_duplicates(inplace=True)\n",
    "hist_weather_datetime.drop('datetime', axis= 1, inplace= True)\n",
    "hist_weather_datetime_county.drop('datetime', axis= 1, inplace= True)\n",
    "\n",
    "#Merging hist_weather_datetime with train data\n",
    "train_merged= train_merged.merge(hist_weather_datetime, how='left', on=['data_block_id', 'hour'])\n",
    "\n",
    "#Merging hist_weather_datetime_county with train data\n",
    "train_merged= train_merged.merge(hist_weather_datetime_county, how='left', on=['data_block_id', 'county', 'hour'],\n",
    "                     suffixes= ('_hist_mean','_hist_mean_by_county'))"
   ]
  },
  {
   "cell_type": "code",
   "execution_count": 91,
   "id": "3f75a1a5",
   "metadata": {},
   "outputs": [
    {
     "data": {
      "text/plain": [
       "array([ 0,  1,  2,  3,  4,  5,  6,  7,  8,  9, 10, 11, 12, 13, 14, 15, 16,\n",
       "       17, 18, 19, 20, 21, 22, 23])"
      ]
     },
     "execution_count": 91,
     "metadata": {},
     "output_type": "execute_result"
    }
   ],
   "source": [
    "train_merged[\"hour\"].unique()"
   ]
  },
  {
   "cell_type": "code",
   "execution_count": 92,
   "id": "7a101375",
   "metadata": {},
   "outputs": [
    {
     "data": {
      "text/html": [
       "<div>\n",
       "<style scoped>\n",
       "    .dataframe tbody tr th:only-of-type {\n",
       "        vertical-align: middle;\n",
       "    }\n",
       "\n",
       "    .dataframe tbody tr th {\n",
       "        vertical-align: top;\n",
       "    }\n",
       "\n",
       "    .dataframe thead th {\n",
       "        text-align: right;\n",
       "    }\n",
       "</style>\n",
       "<table border=\"1\" class=\"dataframe\">\n",
       "  <thead>\n",
       "    <tr style=\"text-align: right;\">\n",
       "      <th></th>\n",
       "      <th>county</th>\n",
       "      <th>is_business</th>\n",
       "      <th>product_type</th>\n",
       "      <th>target</th>\n",
       "      <th>is_consumption</th>\n",
       "      <th>datetime</th>\n",
       "      <th>data_block_id</th>\n",
       "      <th>row_id</th>\n",
       "      <th>prediction_unit_id</th>\n",
       "      <th>year</th>\n",
       "      <th>month</th>\n",
       "      <th>day</th>\n",
       "      <th>hour</th>\n",
       "      <th>dayofweek</th>\n",
       "      <th>dayofyear</th>\n",
       "      <th>eic_count</th>\n",
       "      <th>installed_capacity</th>\n",
       "      <th>lowest_price_per_mwh</th>\n",
       "      <th>highest_price_per_mwh</th>\n",
       "      <th>euros_per_mwh</th>\n",
       "      <th>temperature_fcast_mean</th>\n",
       "      <th>dewpoint_fcast_mean</th>\n",
       "      <th>cloudcover_high_fcast_mean</th>\n",
       "      <th>cloudcover_low_fcast_mean</th>\n",
       "      <th>cloudcover_mid_fcast_mean</th>\n",
       "      <th>cloudcover_total_fcast_mean</th>\n",
       "      <th>10_metre_u_wind_component_fcast_mean</th>\n",
       "      <th>10_metre_v_wind_component_fcast_mean</th>\n",
       "      <th>direct_solar_radiation_fcast_mean</th>\n",
       "      <th>surface_solar_radiation_downwards_fcast_mean</th>\n",
       "      <th>snowfall_fcast_mean</th>\n",
       "      <th>total_precipitation_fcast_mean</th>\n",
       "      <th>temperature_fcast_mean_by_county</th>\n",
       "      <th>dewpoint_fcast_mean_by_county</th>\n",
       "      <th>cloudcover_high_fcast_mean_by_county</th>\n",
       "      <th>cloudcover_low_fcast_mean_by_county</th>\n",
       "      <th>cloudcover_mid_fcast_mean_by_county</th>\n",
       "      <th>cloudcover_total_fcast_mean_by_county</th>\n",
       "      <th>10_metre_u_wind_component_fcast_mean_by_county</th>\n",
       "      <th>10_metre_v_wind_component_fcast_mean_by_county</th>\n",
       "      <th>direct_solar_radiation_fcast_mean_by_county</th>\n",
       "      <th>surface_solar_radiation_downwards_fcast_mean_by_county</th>\n",
       "      <th>snowfall_fcast_mean_by_county</th>\n",
       "      <th>total_precipitation_fcast_mean_by_county</th>\n",
       "      <th>temperature_hist_mean</th>\n",
       "      <th>dewpoint_hist_mean</th>\n",
       "      <th>rain_hist_mean</th>\n",
       "      <th>snowfall_hist_mean</th>\n",
       "      <th>surface_pressure_hist_mean</th>\n",
       "      <th>cloudcover_total_hist_mean</th>\n",
       "      <th>cloudcover_low_hist_mean</th>\n",
       "      <th>cloudcover_mid_hist_mean</th>\n",
       "      <th>cloudcover_high_hist_mean</th>\n",
       "      <th>windspeed_10m_hist_mean</th>\n",
       "      <th>winddirection_10m_hist_mean</th>\n",
       "      <th>shortwave_radiation_hist_mean</th>\n",
       "      <th>direct_solar_radiation_hist_mean</th>\n",
       "      <th>diffuse_radiation_hist_mean</th>\n",
       "      <th>temperature_hist_mean_by_county</th>\n",
       "      <th>dewpoint_hist_mean_by_county</th>\n",
       "      <th>rain_hist_mean_by_county</th>\n",
       "      <th>snowfall_hist_mean_by_county</th>\n",
       "      <th>surface_pressure_hist_mean_by_county</th>\n",
       "      <th>cloudcover_total_hist_mean_by_county</th>\n",
       "      <th>cloudcover_low_hist_mean_by_county</th>\n",
       "      <th>cloudcover_mid_hist_mean_by_county</th>\n",
       "      <th>cloudcover_high_hist_mean_by_county</th>\n",
       "      <th>windspeed_10m_hist_mean_by_county</th>\n",
       "      <th>winddirection_10m_hist_mean_by_county</th>\n",
       "      <th>shortwave_radiation_hist_mean_by_county</th>\n",
       "      <th>direct_solar_radiation_hist_mean_by_county</th>\n",
       "      <th>diffuse_radiation_hist_mean_by_county</th>\n",
       "    </tr>\n",
       "  </thead>\n",
       "  <tbody>\n",
       "    <tr>\n",
       "      <th>0</th>\n",
       "      <td>0</td>\n",
       "      <td>0</td>\n",
       "      <td>1</td>\n",
       "      <td>0.713</td>\n",
       "      <td>0</td>\n",
       "      <td>2021-09-01</td>\n",
       "      <td>0</td>\n",
       "      <td>0</td>\n",
       "      <td>0</td>\n",
       "      <td>2021</td>\n",
       "      <td>9</td>\n",
       "      <td>1</td>\n",
       "      <td>0</td>\n",
       "      <td>2</td>\n",
       "      <td>244</td>\n",
       "      <td>108.0</td>\n",
       "      <td>952.89</td>\n",
       "      <td>NaN</td>\n",
       "      <td>NaN</td>\n",
       "      <td>NaN</td>\n",
       "      <td>NaN</td>\n",
       "      <td>NaN</td>\n",
       "      <td>NaN</td>\n",
       "      <td>NaN</td>\n",
       "      <td>NaN</td>\n",
       "      <td>NaN</td>\n",
       "      <td>NaN</td>\n",
       "      <td>NaN</td>\n",
       "      <td>NaN</td>\n",
       "      <td>NaN</td>\n",
       "      <td>NaN</td>\n",
       "      <td>NaN</td>\n",
       "      <td>NaN</td>\n",
       "      <td>NaN</td>\n",
       "      <td>NaN</td>\n",
       "      <td>NaN</td>\n",
       "      <td>NaN</td>\n",
       "      <td>NaN</td>\n",
       "      <td>NaN</td>\n",
       "      <td>NaN</td>\n",
       "      <td>NaN</td>\n",
       "      <td>NaN</td>\n",
       "      <td>NaN</td>\n",
       "      <td>NaN</td>\n",
       "      <td>NaN</td>\n",
       "      <td>NaN</td>\n",
       "      <td>NaN</td>\n",
       "      <td>NaN</td>\n",
       "      <td>NaN</td>\n",
       "      <td>NaN</td>\n",
       "      <td>NaN</td>\n",
       "      <td>NaN</td>\n",
       "      <td>NaN</td>\n",
       "      <td>NaN</td>\n",
       "      <td>NaN</td>\n",
       "      <td>NaN</td>\n",
       "      <td>NaN</td>\n",
       "      <td>NaN</td>\n",
       "      <td>NaN</td>\n",
       "      <td>NaN</td>\n",
       "      <td>NaN</td>\n",
       "      <td>NaN</td>\n",
       "      <td>NaN</td>\n",
       "      <td>NaN</td>\n",
       "      <td>NaN</td>\n",
       "      <td>NaN</td>\n",
       "      <td>NaN</td>\n",
       "      <td>NaN</td>\n",
       "      <td>NaN</td>\n",
       "      <td>NaN</td>\n",
       "      <td>NaN</td>\n",
       "      <td>NaN</td>\n",
       "    </tr>\n",
       "    <tr>\n",
       "      <th>1</th>\n",
       "      <td>0</td>\n",
       "      <td>0</td>\n",
       "      <td>1</td>\n",
       "      <td>96.590</td>\n",
       "      <td>1</td>\n",
       "      <td>2021-09-01</td>\n",
       "      <td>0</td>\n",
       "      <td>1</td>\n",
       "      <td>0</td>\n",
       "      <td>2021</td>\n",
       "      <td>9</td>\n",
       "      <td>1</td>\n",
       "      <td>0</td>\n",
       "      <td>2</td>\n",
       "      <td>244</td>\n",
       "      <td>108.0</td>\n",
       "      <td>952.89</td>\n",
       "      <td>NaN</td>\n",
       "      <td>NaN</td>\n",
       "      <td>NaN</td>\n",
       "      <td>NaN</td>\n",
       "      <td>NaN</td>\n",
       "      <td>NaN</td>\n",
       "      <td>NaN</td>\n",
       "      <td>NaN</td>\n",
       "      <td>NaN</td>\n",
       "      <td>NaN</td>\n",
       "      <td>NaN</td>\n",
       "      <td>NaN</td>\n",
       "      <td>NaN</td>\n",
       "      <td>NaN</td>\n",
       "      <td>NaN</td>\n",
       "      <td>NaN</td>\n",
       "      <td>NaN</td>\n",
       "      <td>NaN</td>\n",
       "      <td>NaN</td>\n",
       "      <td>NaN</td>\n",
       "      <td>NaN</td>\n",
       "      <td>NaN</td>\n",
       "      <td>NaN</td>\n",
       "      <td>NaN</td>\n",
       "      <td>NaN</td>\n",
       "      <td>NaN</td>\n",
       "      <td>NaN</td>\n",
       "      <td>NaN</td>\n",
       "      <td>NaN</td>\n",
       "      <td>NaN</td>\n",
       "      <td>NaN</td>\n",
       "      <td>NaN</td>\n",
       "      <td>NaN</td>\n",
       "      <td>NaN</td>\n",
       "      <td>NaN</td>\n",
       "      <td>NaN</td>\n",
       "      <td>NaN</td>\n",
       "      <td>NaN</td>\n",
       "      <td>NaN</td>\n",
       "      <td>NaN</td>\n",
       "      <td>NaN</td>\n",
       "      <td>NaN</td>\n",
       "      <td>NaN</td>\n",
       "      <td>NaN</td>\n",
       "      <td>NaN</td>\n",
       "      <td>NaN</td>\n",
       "      <td>NaN</td>\n",
       "      <td>NaN</td>\n",
       "      <td>NaN</td>\n",
       "      <td>NaN</td>\n",
       "      <td>NaN</td>\n",
       "      <td>NaN</td>\n",
       "      <td>NaN</td>\n",
       "      <td>NaN</td>\n",
       "      <td>NaN</td>\n",
       "    </tr>\n",
       "    <tr>\n",
       "      <th>2</th>\n",
       "      <td>0</td>\n",
       "      <td>0</td>\n",
       "      <td>2</td>\n",
       "      <td>0.000</td>\n",
       "      <td>0</td>\n",
       "      <td>2021-09-01</td>\n",
       "      <td>0</td>\n",
       "      <td>2</td>\n",
       "      <td>1</td>\n",
       "      <td>2021</td>\n",
       "      <td>9</td>\n",
       "      <td>1</td>\n",
       "      <td>0</td>\n",
       "      <td>2</td>\n",
       "      <td>244</td>\n",
       "      <td>17.0</td>\n",
       "      <td>166.40</td>\n",
       "      <td>NaN</td>\n",
       "      <td>NaN</td>\n",
       "      <td>NaN</td>\n",
       "      <td>NaN</td>\n",
       "      <td>NaN</td>\n",
       "      <td>NaN</td>\n",
       "      <td>NaN</td>\n",
       "      <td>NaN</td>\n",
       "      <td>NaN</td>\n",
       "      <td>NaN</td>\n",
       "      <td>NaN</td>\n",
       "      <td>NaN</td>\n",
       "      <td>NaN</td>\n",
       "      <td>NaN</td>\n",
       "      <td>NaN</td>\n",
       "      <td>NaN</td>\n",
       "      <td>NaN</td>\n",
       "      <td>NaN</td>\n",
       "      <td>NaN</td>\n",
       "      <td>NaN</td>\n",
       "      <td>NaN</td>\n",
       "      <td>NaN</td>\n",
       "      <td>NaN</td>\n",
       "      <td>NaN</td>\n",
       "      <td>NaN</td>\n",
       "      <td>NaN</td>\n",
       "      <td>NaN</td>\n",
       "      <td>NaN</td>\n",
       "      <td>NaN</td>\n",
       "      <td>NaN</td>\n",
       "      <td>NaN</td>\n",
       "      <td>NaN</td>\n",
       "      <td>NaN</td>\n",
       "      <td>NaN</td>\n",
       "      <td>NaN</td>\n",
       "      <td>NaN</td>\n",
       "      <td>NaN</td>\n",
       "      <td>NaN</td>\n",
       "      <td>NaN</td>\n",
       "      <td>NaN</td>\n",
       "      <td>NaN</td>\n",
       "      <td>NaN</td>\n",
       "      <td>NaN</td>\n",
       "      <td>NaN</td>\n",
       "      <td>NaN</td>\n",
       "      <td>NaN</td>\n",
       "      <td>NaN</td>\n",
       "      <td>NaN</td>\n",
       "      <td>NaN</td>\n",
       "      <td>NaN</td>\n",
       "      <td>NaN</td>\n",
       "      <td>NaN</td>\n",
       "      <td>NaN</td>\n",
       "      <td>NaN</td>\n",
       "      <td>NaN</td>\n",
       "    </tr>\n",
       "    <tr>\n",
       "      <th>3</th>\n",
       "      <td>0</td>\n",
       "      <td>0</td>\n",
       "      <td>2</td>\n",
       "      <td>17.314</td>\n",
       "      <td>1</td>\n",
       "      <td>2021-09-01</td>\n",
       "      <td>0</td>\n",
       "      <td>3</td>\n",
       "      <td>1</td>\n",
       "      <td>2021</td>\n",
       "      <td>9</td>\n",
       "      <td>1</td>\n",
       "      <td>0</td>\n",
       "      <td>2</td>\n",
       "      <td>244</td>\n",
       "      <td>17.0</td>\n",
       "      <td>166.40</td>\n",
       "      <td>NaN</td>\n",
       "      <td>NaN</td>\n",
       "      <td>NaN</td>\n",
       "      <td>NaN</td>\n",
       "      <td>NaN</td>\n",
       "      <td>NaN</td>\n",
       "      <td>NaN</td>\n",
       "      <td>NaN</td>\n",
       "      <td>NaN</td>\n",
       "      <td>NaN</td>\n",
       "      <td>NaN</td>\n",
       "      <td>NaN</td>\n",
       "      <td>NaN</td>\n",
       "      <td>NaN</td>\n",
       "      <td>NaN</td>\n",
       "      <td>NaN</td>\n",
       "      <td>NaN</td>\n",
       "      <td>NaN</td>\n",
       "      <td>NaN</td>\n",
       "      <td>NaN</td>\n",
       "      <td>NaN</td>\n",
       "      <td>NaN</td>\n",
       "      <td>NaN</td>\n",
       "      <td>NaN</td>\n",
       "      <td>NaN</td>\n",
       "      <td>NaN</td>\n",
       "      <td>NaN</td>\n",
       "      <td>NaN</td>\n",
       "      <td>NaN</td>\n",
       "      <td>NaN</td>\n",
       "      <td>NaN</td>\n",
       "      <td>NaN</td>\n",
       "      <td>NaN</td>\n",
       "      <td>NaN</td>\n",
       "      <td>NaN</td>\n",
       "      <td>NaN</td>\n",
       "      <td>NaN</td>\n",
       "      <td>NaN</td>\n",
       "      <td>NaN</td>\n",
       "      <td>NaN</td>\n",
       "      <td>NaN</td>\n",
       "      <td>NaN</td>\n",
       "      <td>NaN</td>\n",
       "      <td>NaN</td>\n",
       "      <td>NaN</td>\n",
       "      <td>NaN</td>\n",
       "      <td>NaN</td>\n",
       "      <td>NaN</td>\n",
       "      <td>NaN</td>\n",
       "      <td>NaN</td>\n",
       "      <td>NaN</td>\n",
       "      <td>NaN</td>\n",
       "      <td>NaN</td>\n",
       "      <td>NaN</td>\n",
       "      <td>NaN</td>\n",
       "    </tr>\n",
       "    <tr>\n",
       "      <th>4</th>\n",
       "      <td>0</td>\n",
       "      <td>0</td>\n",
       "      <td>3</td>\n",
       "      <td>2.904</td>\n",
       "      <td>0</td>\n",
       "      <td>2021-09-01</td>\n",
       "      <td>0</td>\n",
       "      <td>4</td>\n",
       "      <td>2</td>\n",
       "      <td>2021</td>\n",
       "      <td>9</td>\n",
       "      <td>1</td>\n",
       "      <td>0</td>\n",
       "      <td>2</td>\n",
       "      <td>244</td>\n",
       "      <td>688.0</td>\n",
       "      <td>7207.88</td>\n",
       "      <td>NaN</td>\n",
       "      <td>NaN</td>\n",
       "      <td>NaN</td>\n",
       "      <td>NaN</td>\n",
       "      <td>NaN</td>\n",
       "      <td>NaN</td>\n",
       "      <td>NaN</td>\n",
       "      <td>NaN</td>\n",
       "      <td>NaN</td>\n",
       "      <td>NaN</td>\n",
       "      <td>NaN</td>\n",
       "      <td>NaN</td>\n",
       "      <td>NaN</td>\n",
       "      <td>NaN</td>\n",
       "      <td>NaN</td>\n",
       "      <td>NaN</td>\n",
       "      <td>NaN</td>\n",
       "      <td>NaN</td>\n",
       "      <td>NaN</td>\n",
       "      <td>NaN</td>\n",
       "      <td>NaN</td>\n",
       "      <td>NaN</td>\n",
       "      <td>NaN</td>\n",
       "      <td>NaN</td>\n",
       "      <td>NaN</td>\n",
       "      <td>NaN</td>\n",
       "      <td>NaN</td>\n",
       "      <td>NaN</td>\n",
       "      <td>NaN</td>\n",
       "      <td>NaN</td>\n",
       "      <td>NaN</td>\n",
       "      <td>NaN</td>\n",
       "      <td>NaN</td>\n",
       "      <td>NaN</td>\n",
       "      <td>NaN</td>\n",
       "      <td>NaN</td>\n",
       "      <td>NaN</td>\n",
       "      <td>NaN</td>\n",
       "      <td>NaN</td>\n",
       "      <td>NaN</td>\n",
       "      <td>NaN</td>\n",
       "      <td>NaN</td>\n",
       "      <td>NaN</td>\n",
       "      <td>NaN</td>\n",
       "      <td>NaN</td>\n",
       "      <td>NaN</td>\n",
       "      <td>NaN</td>\n",
       "      <td>NaN</td>\n",
       "      <td>NaN</td>\n",
       "      <td>NaN</td>\n",
       "      <td>NaN</td>\n",
       "      <td>NaN</td>\n",
       "      <td>NaN</td>\n",
       "      <td>NaN</td>\n",
       "      <td>NaN</td>\n",
       "    </tr>\n",
       "  </tbody>\n",
       "</table>\n",
       "</div>"
      ],
      "text/plain": [
       "   county  ...  diffuse_radiation_hist_mean_by_county\n",
       "0       0  ...                                    NaN\n",
       "1       0  ...                                    NaN\n",
       "2       0  ...                                    NaN\n",
       "3       0  ...                                    NaN\n",
       "4       0  ...                                    NaN\n",
       "\n",
       "[5 rows x 72 columns]"
      ]
     },
     "execution_count": 92,
     "metadata": {},
     "output_type": "execute_result"
    }
   ],
   "source": [
    "train_merged.info()\n"
   ]
  },
  {
   "cell_type": "code",
   "execution_count": 93,
   "id": "40168c80",
   "metadata": {},
   "outputs": [
    {
     "data": {
      "text/plain": [
       "county                                            0\n",
       "is_business                                       0\n",
       "product_type                                      0\n",
       "target                                            0\n",
       "is_consumption                                    0\n",
       "                                              ...  \n",
       "windspeed_10m_hist_mean_by_county             35056\n",
       "winddirection_10m_hist_mean_by_county         35056\n",
       "shortwave_radiation_hist_mean_by_county       35056\n",
       "direct_solar_radiation_hist_mean_by_county    35056\n",
       "diffuse_radiation_hist_mean_by_county         35056\n",
       "Length: 72, dtype: int64"
      ]
     },
     "execution_count": 93,
     "metadata": {},
     "output_type": "execute_result"
    }
   ],
   "source": [
    "train_merged.isna().sum()"
   ]
  },
  {
   "cell_type": "code",
   "execution_count": 98,
   "id": "89453579",
   "metadata": {},
   "outputs": [
    {
     "data": {
      "image/png": "[encoded data removed]",
      "text/plain": [
       "<Figure size 640x480 with 1 Axes>"
      ]
     },
     "metadata": {},
     "output_type": "display_data"
    }
   ],
   "source": [
    "plt.figure()\n",
    "\n",
    "ax = sns.heatmap(train_merged.isna().T, cmap=\"tab10\", cbar=False)\n",
    "ax.set(xticklabels=[]) # turn off tick marks\n",
    "\n",
    "plt.show()"
   ]
  },
  {
   "cell_type": "markdown",
   "id": "c158f565",
   "metadata": {},
   "source": [
    "There are no apparent long runs of adjacent missing values, and we cannot spot any concerning patterns. We choose to fill in the missing values using forward filling."
   ]
  },
  {
   "cell_type": "code",
   "execution_count": 99,
   "id": "6d021158",
   "metadata": {},
   "outputs": [],
   "source": [
    "#Filling nan values with hourly mean values for each column | Helps for the county missing value \n",
    "train_merged= train_merged.groupby(['year', 'day', 'hour'], as_index=False).apply(lambda x: x.ffill().bfill()).reset_index()"
   ]
  },
  {
   "cell_type": "code",
   "execution_count": 100,
   "id": "ef5acb16",
   "metadata": {},
   "outputs": [
    {
     "data": {
      "text/plain": [
       "level_0                                       0\n",
       "level_1                                       0\n",
       "county                                        0\n",
       "is_business                                   0\n",
       "product_type                                  0\n",
       "                                             ..\n",
       "windspeed_10m_hist_mean_by_county             0\n",
       "winddirection_10m_hist_mean_by_county         0\n",
       "shortwave_radiation_hist_mean_by_county       0\n",
       "direct_solar_radiation_hist_mean_by_county    0\n",
       "diffuse_radiation_hist_mean_by_county         0\n",
       "Length: 74, dtype: int64"
      ]
     },
     "execution_count": 100,
     "metadata": {},
     "output_type": "execute_result"
    }
   ],
   "source": [
    "train_merged.isna().sum()"
   ]
  },
  {
   "cell_type": "code",
   "execution_count": 101,
   "id": "a157aece",
   "metadata": {},
   "outputs": [],
   "source": [
    "#Dropping uneeded data\n",
    "train_merged.drop(['level_0', 'level_1', 'row_id', 'data_block_id', 'year'], axis= 1, inplace= True)"
   ]
  },
  {
   "cell_type": "code",
   "execution_count": null,
   "id": "77c83d7c",
   "metadata": {},
   "outputs": [],
   "source": [
    "cols = [c for c in train_merged.columns if c not in [\"datetime\"]]\n",
    "\n",
    "correlation_matrix = train_merged[cols].corr()\n",
    "\n",
    "plt.figure(figsize=(100,15))\n",
    "heatmap = plt.imshow(correlation_matrix, cmap=\"viridis\", interpolation=\"none\")\n",
    "\n",
    "# Display correlation values in each cell\n",
    "for i in range(len(cols)):\n",
    "    for j in range(len(cols)):\n",
    "        plt.text(j, i, f\"{correlation_matrix.iloc[i, j]:.2f}\", ha='center', va='center', color='white')\n",
    "\n",
    "plt.colorbar(heatmap, label=\"Correlation\")\n",
    "plt.xticks(np.arange(len(cols)), cols, rotation=90)\n",
    "plt.yticks(np.arange(len(cols)), cols)\n",
    "plt.title(\"Correlation Heatmap\")\n",
    "plt.show()"
   ]
  },
  {
   "cell_type": "code",
   "execution_count": 102,
   "id": "52fc2bc9",
   "metadata": {},
   "outputs": [],
   "source": [
    "train_merged.set_index('datetime', inplace=True)\n"
   ]
  },
  {
   "cell_type": "code",
   "execution_count": 103,
   "id": "217e6527",
   "metadata": {},
   "outputs": [
    {
     "data": {
      "text/plain": [
       "(Timestamp('2021-09-01 00:00:00'), Timestamp('2023-05-31 23:00:00'))"
      ]
     },
     "execution_count": 103,
     "metadata": {},
     "output_type": "execute_result"
    }
   ],
   "source": [
    "first_day = train_merged.index.min()\n",
    "last_day = train_merged.index.max()\n",
    "\n",
    "# pandas `Timestamp` objects\n",
    "first_day, last_day\n"
   ]
  },
  {
   "cell_type": "code",
   "execution_count": 105,
   "id": "725c3544",
   "metadata": {},
   "outputs": [
    {
     "name": "stdout",
     "output_type": "stream",
     "text": [
      "county-series is stationery\n",
      "is_business-series is stationery\n",
      "product_type-series is stationery\n",
      "target-series is stationery\n",
      "is_consumption-series is stationery\n",
      "prediction_unit_id-series is stationery\n",
      "month-series is stationery\n",
      "day-series is not stationery\n",
      "hour-series is stationery\n",
      "dayofweek-series is stationery\n",
      "dayofyear-series is stationery\n",
      "eic_count-series is stationery\n",
      "installed_capacity-series is stationery\n",
      "lowest_price_per_mwh-series is stationery\n",
      "highest_price_per_mwh-series is stationery\n",
      "euros_per_mwh-series is stationery\n",
      "temperature_fcast_mean-series is stationery\n",
      "dewpoint_fcast_mean-series is stationery\n",
      "cloudcover_high_fcast_mean-series is stationery\n",
      "cloudcover_low_fcast_mean-series is stationery\n",
      "cloudcover_mid_fcast_mean-series is stationery\n",
      "cloudcover_total_fcast_mean-series is stationery\n",
      "10_metre_u_wind_component_fcast_mean-series is stationery\n",
      "10_metre_v_wind_component_fcast_mean-series is stationery\n",
      "direct_solar_radiation_fcast_mean-series is stationery\n",
      "surface_solar_radiation_downwards_fcast_mean-series is stationery\n",
      "snowfall_fcast_mean-series is stationery\n",
      "total_precipitation_fcast_mean-series is stationery\n",
      "temperature_fcast_mean_by_county-series is stationery\n",
      "dewpoint_fcast_mean_by_county-series is stationery\n",
      "cloudcover_high_fcast_mean_by_county-series is stationery\n",
      "cloudcover_low_fcast_mean_by_county-series is stationery\n",
      "cloudcover_mid_fcast_mean_by_county-series is stationery\n",
      "cloudcover_total_fcast_mean_by_county-series is stationery\n",
      "10_metre_u_wind_component_fcast_mean_by_county-series is stationery\n",
      "10_metre_v_wind_component_fcast_mean_by_county-series is stationery\n",
      "direct_solar_radiation_fcast_mean_by_county-series is stationery\n",
      "surface_solar_radiation_downwards_fcast_mean_by_county-series is stationery\n",
      "snowfall_fcast_mean_by_county-series is stationery\n",
      "total_precipitation_fcast_mean_by_county-series is stationery\n",
      "temperature_hist_mean-series is stationery\n",
      "dewpoint_hist_mean-series is stationery\n",
      "rain_hist_mean-series is stationery\n",
      "snowfall_hist_mean-series is stationery\n",
      "surface_pressure_hist_mean-series is stationery\n",
      "cloudcover_total_hist_mean-series is stationery\n",
      "cloudcover_low_hist_mean-series is stationery\n",
      "cloudcover_mid_hist_mean-series is stationery\n",
      "cloudcover_high_hist_mean-series is stationery\n",
      "windspeed_10m_hist_mean-series is stationery\n",
      "winddirection_10m_hist_mean-series is stationery\n",
      "shortwave_radiation_hist_mean-series is stationery\n",
      "direct_solar_radiation_hist_mean-series is stationery\n",
      "diffuse_radiation_hist_mean-series is stationery\n",
      "temperature_hist_mean_by_county-series is stationery\n",
      "dewpoint_hist_mean_by_county-series is stationery\n",
      "rain_hist_mean_by_county-series is stationery\n",
      "snowfall_hist_mean_by_county-series is stationery\n",
      "surface_pressure_hist_mean_by_county-series is stationery\n",
      "cloudcover_total_hist_mean_by_county-series is stationery\n",
      "cloudcover_low_hist_mean_by_county-series is stationery\n",
      "cloudcover_mid_hist_mean_by_county-series is stationery\n",
      "cloudcover_high_hist_mean_by_county-series is stationery\n",
      "windspeed_10m_hist_mean_by_county-series is stationery\n",
      "winddirection_10m_hist_mean_by_county-series is stationery\n",
      "shortwave_radiation_hist_mean_by_county-series is stationery\n",
      "direct_solar_radiation_hist_mean_by_county-series is stationery\n",
      "diffuse_radiation_hist_mean_by_county-series is stationery\n"
     ]
    }
   ],
   "source": [
    "subset_data = train_merged.head(100000)\n",
    "\n",
    "for i in range(len(subset_data.columns)):\n",
    "    result = adfuller(subset_data[subset_data.columns[i]])\n",
    "    \n",
    "    if result[1] > 0.05:\n",
    "        print('{}-series is not stationery'.format(subset_data.columns[i]))\n",
    "     \n",
    "      \n",
    "    else:\n",
    "        print('{}-series is stationery'.format(subset_data.columns[i]))\n",
    "        \n",
    "        "
   ]
  },
  {
   "cell_type": "code",
   "execution_count": 144,
   "id": "96e579d4",
   "metadata": {},
   "outputs": [],
   "source": [
    "subset_data = train_merged.head(100000)"
   ]
  },
  {
   "cell_type": "code",
   "execution_count": 117,
   "id": "de99ee58",
   "metadata": {},
   "outputs": [],
   "source": [
    "# Assuming 'train_merged' has a DatetimeIndex and 'target' column\n",
    "target_column = subset_data.pop('target')  # Remove 'target' column and store it\n",
    "\n",
    "# Add 'target' column back as the first column\n",
    "subset_data.insert(0, 'target', target_column)\n"
   ]
  },
  {
   "cell_type": "code",
   "execution_count": 127,
   "id": "e0b264cf",
   "metadata": {},
   "outputs": [],
   "source": [
    "max_lags = 8\n",
    "y = 'target'\n",
    "\n"
   ]
  },
  {
   "cell_type": "code",
   "execution_count": 135,
   "id": "8070660b",
   "metadata": {},
   "outputs": [
    {
     "name": "stdout",
     "output_type": "stream",
     "text": [
      "column-county : P_values -[0.0, 0.0, 0.0, 0.0, 0.0, 0.0, 0.0, 0.0]\n",
      "column-is_business : P_values -[0.0, 0.0, 0.0, 0.0, 0.0, 0.0, 0.0, 0.0]\n",
      "column-product_type : P_values -[0.0, 0.0, 0.0, 0.0, 0.0, 0.0, 0.0, 0.0]\n",
      "column-is_consumption : P_values -[0.0, 0.0, 0.0, 0.0, 0.0, 0.0, 0.0, 0.0]\n",
      "column-prediction_unit_id : P_values -[0.0, 0.0, 0.0, 0.0, 0.0, 0.0, 0.0, 0.0]\n",
      "column-month : P_values -[0.0, 0.0, 0.0, 0.0, 0.0, 0.0, 0.0, 0.0]\n",
      "column-hour : P_values -[0.0, 0.0, 0.0, 0.0, 0.0, 0.0, 0.0, 0.0]\n",
      "column-dayofweek : P_values -[0.0, 0.0, 0.0, 0.0, 0.0, 0.0, 0.0, 0.0]\n",
      "column-dayofyear : P_values -[0.0, 0.0, 0.0, 0.0, 0.0, 0.0, 0.0, 0.0]\n",
      "column-eic_count : P_values -[0.0, 0.0, 0.0, 0.0, 0.0, 0.0, 0.0, 0.0]\n",
      "column-installed_capacity : P_values -[0.0, 0.0, 0.0, 0.0, 0.0, 0.0, 0.0, 0.0]\n",
      "column-lowest_price_per_mwh : P_values -[0.0, 0.0, 0.0, 0.0, 0.0, 0.0, 0.0, 0.0]\n",
      "column-highest_price_per_mwh : P_values -[0.0, 0.0, 0.0, 0.0, 0.0, 0.0, 0.0, 0.0]\n",
      "column-euros_per_mwh : P_values -[0.0, 0.0, 0.0, 0.0, 0.0, 0.0, 0.0, 0.0]\n",
      "column-temperature_fcast_mean : P_values -[0.0, 0.0, 0.0, 0.0, 0.0, 0.0, 0.0, 0.0]\n",
      "column-dewpoint_fcast_mean : P_values -[0.0, 0.0, 0.0, 0.0, 0.0, 0.0, 0.0, 0.0]\n",
      "column-cloudcover_high_fcast_mean : P_values -[0.926, 0.7033, 0.8777, 0.952, 0.9561, 0.0479, 0.0798, 0.1158]\n",
      "column-cloudcover_low_fcast_mean : P_values -[0.0, 0.0, 0.0, 0.0, 0.0, 0.0, 0.0, 0.0]\n",
      "column-cloudcover_mid_fcast_mean : P_values -[0.1306, 0.2205, 0.349, 0.562, 0.3854, 0.0026, 0.0051, 0.0097]\n",
      "column-cloudcover_total_fcast_mean : P_values -[0.0001, 0.0003, 0.0003, 0.0025, 0.0, 0.0, 0.0, 0.0]\n",
      "column-10_metre_u_wind_component_fcast_mean : P_values -[0.0, 0.0001, 0.0001, 0.0008, 0.0, 0.0, 0.0, 0.0]\n",
      "column-10_metre_v_wind_component_fcast_mean : P_values -[0.0086, 0.0163, 0.0278, 0.088, 0.0202, 0.0, 0.0, 0.0]\n",
      "column-direct_solar_radiation_fcast_mean : P_values -[0.0, 0.0, 0.0, 0.0, 0.0, 0.0, 0.0, 0.0]\n",
      "column-surface_solar_radiation_downwards_fcast_mean : P_values -[0.0, 0.0, 0.0, 0.0, 0.0, 0.0, 0.0, 0.0]\n",
      "column-snowfall_fcast_mean : P_values -[0.0, 0.0, 0.0, 0.0, 0.0, 0.0, 0.0, 0.0]\n",
      "column-total_precipitation_fcast_mean : P_values -[0.0059, 0.0127, 0.0215, 0.0712, 0.0504, 0.0, 0.0001, 0.0002]\n",
      "column-temperature_fcast_mean_by_county : P_values -[0.0, 0.0, 0.0, 0.0, 0.0, 0.0, 0.0, 0.0]\n",
      "column-dewpoint_fcast_mean_by_county : P_values -[0.0, 0.0, 0.0, 0.0, 0.0, 0.0, 0.0, 0.0]\n",
      "column-cloudcover_high_fcast_mean_by_county : P_values -[0.8656, 0.9838, 0.9778, 0.9756, 0.9917, 0.9974, 0.9988, 0.9931]\n",
      "column-cloudcover_low_fcast_mean_by_county : P_values -[0.0, 0.0, 0.0, 0.0, 0.0, 0.0, 0.0, 0.0]\n",
      "column-cloudcover_mid_fcast_mean_by_county : P_values -[0.9039, 0.9846, 0.9382, 0.932, 0.7154, 0.7991, 0.8385, 0.8638]\n",
      "column-cloudcover_total_fcast_mean_by_county : P_values -[0.0, 0.0, 0.0, 0.0, 0.0, 0.0, 0.0, 0.0]\n",
      "column-10_metre_u_wind_component_fcast_mean_by_county : P_values -[0.0, 0.0001, 0.0, 0.0002, 0.0001, 0.0, 0.0, 0.0]\n",
      "column-10_metre_v_wind_component_fcast_mean_by_county : P_values -[0.0003, 0.0009, 0.0015, 0.0072, 0.0038, 0.0, 0.0, 0.0]\n",
      "column-direct_solar_radiation_fcast_mean_by_county : P_values -[0.0, 0.0, 0.0, 0.0, 0.0, 0.0, 0.0, 0.0]\n",
      "column-surface_solar_radiation_downwards_fcast_mean_by_county : P_values -[0.0, 0.0, 0.0, 0.0, 0.0, 0.0, 0.0, 0.0]\n",
      "column-snowfall_fcast_mean_by_county : P_values -[0.0, 0.0, 0.0, 0.0, 0.0, 0.0, 0.0, 0.0]\n",
      "column-total_precipitation_fcast_mean_by_county : P_values -[0.2277, 0.4806, 0.6372, 0.8128, 0.8205, 0.8903, 0.9295, 0.9557]\n",
      "column-temperature_hist_mean : P_values -[0.0, 0.0, 0.0, 0.0, 0.0, 0.0, 0.0, 0.0]\n",
      "column-dewpoint_hist_mean : P_values -[0.0, 0.0, 0.0, 0.0, 0.0, 0.0, 0.0, 0.0]\n",
      "column-rain_hist_mean : P_values -[0.0004, 0.0008, 0.0011, 0.0065, 0.006, 0.0, 0.0, 0.0]\n",
      "column-snowfall_hist_mean : P_values -[0.0012, 0.0007, 0.001, 0.0047, 0.0, 0.0, 0.0, 0.0]\n",
      "column-surface_pressure_hist_mean : P_values -[0.0, 0.0, 0.0, 0.0003, 0.0, 0.0, 0.0, 0.0]\n",
      "column-cloudcover_total_hist_mean : P_values -[0.0947, 0.1307, 0.2055, 0.3763, 0.0009, 0.0, 0.0, 0.0]\n",
      "column-cloudcover_low_hist_mean : P_values -[0.0002, 0.0003, 0.0004, 0.0024, 0.0, 0.0, 0.0, 0.0]\n",
      "column-cloudcover_mid_hist_mean : P_values -[0.0001, 0.0005, 0.0005, 0.0039, 0.0001, 0.0003, 0.0004, 0.0024]\n",
      "column-cloudcover_high_hist_mean : P_values -[0.9838, 0.9855, 0.9981, 0.9997, 0.0157, 0.019, 0.0324, 0.0519]\n",
      "column-windspeed_10m_hist_mean : P_values -[0.0672, 0.0724, 0.1202, 0.2469, 0.0336, 0.0, 0.0, 0.0]\n",
      "column-winddirection_10m_hist_mean : P_values -[0.0, 0.0, 0.0, 0.0, 0.0, 0.0, 0.0, 0.0]\n",
      "column-shortwave_radiation_hist_mean : P_values -[0.0, 0.0, 0.0, 0.0, 0.0, 0.0, 0.0, 0.0]\n",
      "column-direct_solar_radiation_hist_mean : P_values -[0.0, 0.0, 0.0, 0.0, 0.0, 0.0, 0.0, 0.0]\n",
      "column-diffuse_radiation_hist_mean : P_values -[0.0, 0.0, 0.0, 0.0, 0.0, 0.0, 0.0, 0.0]\n",
      "column-temperature_hist_mean_by_county : P_values -[0.0, 0.0, 0.0, 0.0, 0.0, 0.0, 0.0, 0.0]\n",
      "column-dewpoint_hist_mean_by_county : P_values -[0.0, 0.0, 0.0, 0.0, 0.0, 0.0, 0.0, 0.0]\n",
      "column-rain_hist_mean_by_county : P_values -[0.0044, 0.0171, 0.021, 0.0533, 0.0592, 0.0821, 0.0972, 0.1365]\n",
      "column-snowfall_hist_mean_by_county : P_values -[0.4453, 0.7466, 0.8669, 0.9632, 0.0108, 0.0036, 0.0074, 0.0053]\n",
      "column-surface_pressure_hist_mean_by_county : P_values -[0.003, 0.0023, 0.0024, 0.0001, 0.0, 0.0, 0.0, 0.0]\n",
      "column-cloudcover_total_hist_mean_by_county : P_values -[0.0047, 0.0153, 0.0227, 0.0513, 0.0004, 0.0, 0.0, 0.0]\n",
      "column-cloudcover_low_hist_mean_by_county : P_values -[0.0, 0.0001, 0.0001, 0.0008, 0.0, 0.0, 0.0, 0.0]\n",
      "column-cloudcover_mid_hist_mean_by_county : P_values -[0.0006, 0.0022, 0.0026, 0.0104, 0.0044, 0.0047, 0.0049, 0.013]\n",
      "column-cloudcover_high_hist_mean_by_county : P_values -[0.9818, 0.855, 0.8693, 0.9361, 0.2479, 0.2046, 0.2521, 0.1152]\n",
      "column-windspeed_10m_hist_mean_by_county : P_values -[0.1653, 0.2318, 0.0038, 0.0001, 0.0013, 0.0, 0.0, 0.0]\n",
      "column-winddirection_10m_hist_mean_by_county : P_values -[0.0, 0.0, 0.0, 0.0, 0.0, 0.0, 0.0, 0.0]\n",
      "column-shortwave_radiation_hist_mean_by_county : P_values -[0.0, 0.0, 0.0, 0.0, 0.0, 0.0, 0.0, 0.0]\n",
      "column-direct_solar_radiation_hist_mean_by_county : P_values -[0.0, 0.0, 0.0, 0.0, 0.0, 0.0, 0.0, 0.0]\n",
      "column-diffuse_radiation_hist_mean_by_county : P_values -[0.0, 0.0, 0.0, 0.0, 0.0, 0.0, 0.0, 0.0]\n"
     ]
    }
   ],
   "source": [
    "for i in range(len(subset_data.columns)-1):\n",
    "    results = grangercausalitytests(subset_data[['target', subset_data.columns[i+1]]], max_lags, verbose=False)\n",
    "    p_values = [round(results[j+1][0]['ssr_ftest'][1], 4) for j in range(max_lags)]\n",
    "    print('column-{} : P_values -{}'.format(subset_data.columns[i+1], p_values))\n"
   ]
  },
  {
   "cell_type": "code",
   "execution_count": null,
   "id": "9be7f1b4",
   "metadata": {},
   "outputs": [],
   "source": [
    "['cloudcover_high_hist_mean_by_county','snowfall_hist_mean_by_county','rain_hist_mean_by_county','cloudcover_high_hist_mean',\\\n",
    "'total_precipitation_fcast_mean_by_county','cloudcover_mid_fcast_mean_by_county','cloudcover_high_fcast_mean_by_county',\\\n",
    "'cloudcover_mid_fcast_mean','cloudcover_high_fcast_mean',]\n"
   ]
  },
  {
   "cell_type": "code",
   "execution_count": 145,
   "id": "eb8b26a1",
   "metadata": {},
   "outputs": [],
   "source": [
    "# Assuming 'train_merged' is your DataFrame\n",
    "columns_to_drop = [\n",
    "    'cloudcover_high_hist_mean_by_county', 'snowfall_hist_mean_by_county', 'rain_hist_mean_by_county',\n",
    "    'cloudcover_high_hist_mean', 'total_precipitation_fcast_mean_by_county',\n",
    "    'cloudcover_mid_fcast_mean_by_county', 'cloudcover_high_fcast_mean_by_county',\n",
    "    'cloudcover_mid_fcast_mean', 'cloudcover_high_fcast_mean'\n",
    "]\n",
    "\n",
    "# Drop the specified columns\n",
    "subset_data = subset_data.drop(columns=columns_to_drop)\n"
   ]
  },
  {
   "cell_type": "code",
   "execution_count": 146,
   "id": "e9baf101",
   "metadata": {},
   "outputs": [
    {
     "data": {
      "text/plain": [
       "(100000, 58)"
      ]
     },
     "execution_count": 146,
     "metadata": {},
     "output_type": "execute_result"
    }
   ],
   "source": [
    "subset_data.shape"
   ]
  },
  {
   "cell_type": "code",
   "execution_count": 147,
   "id": "c11af3da",
   "metadata": {},
   "outputs": [],
   "source": [
    "df_train = subset_data[:int(0.9*(len(subset_data)))]\n",
    "df_test = subset_data[int(0.9*(len(subset_data))):]"
   ]
  },
  {
   "cell_type": "code",
   "execution_count": 148,
   "id": "d1acc7c2",
   "metadata": {},
   "outputs": [
    {
     "data": {
      "text/plain": [
       "(90000, 58)"
      ]
     },
     "execution_count": 148,
     "metadata": {},
     "output_type": "execute_result"
    }
   ],
   "source": [
    "df_train.shape"
   ]
  },
  {
   "cell_type": "code",
   "execution_count": 149,
   "id": "8c9c4ed4",
   "metadata": {},
   "outputs": [
    {
     "data": {
      "text/plain": [
       "(10000, 58)"
      ]
     },
     "execution_count": 149,
     "metadata": {},
     "output_type": "execute_result"
    }
   ],
   "source": [
    "df_test.shape"
   ]
  },
  {
   "cell_type": "code",
   "execution_count": null,
   "id": "f9fe44f6",
   "metadata": {},
   "outputs": [],
   "source": [
    "model = VAR(df_train, freq = 'H')\n",
    "\n",
    "model.select_order(48).summary()"
   ]
  },
  {
   "cell_type": "code",
   "execution_count": null,
   "id": "f62085ab",
   "metadata": {},
   "outputs": [],
   "source": [
    "# the \"MS\" option specifies Monthly frequency by Start day\n",
    "train_merged_monthly = train_merged.resample(\"MS\").sum()\n",
    "\n",
    "train_merged_monthly.head()"
   ]
  },
  {
   "cell_type": "code",
   "execution_count": null,
   "id": "86ba4159",
   "metadata": {},
   "outputs": [],
   "source": []
  },
  {
   "cell_type": "code",
   "execution_count": null,
   "id": "019b726b",
   "metadata": {},
   "outputs": [],
   "source": [
    "fig = px.line(train_merged, x=train_merged.index, y=\"target\",)\n",
    "fig.update_layout(\n",
    "    yaxis_title=\"target\", \n",
    "    xaxis_title=\"Year\",\n",
    "    legend_title=\"\", \n",
    "    title=\"The consumption or production amount\"\n",
    ")\n",
    "fig.show()"
   ]
  },
  {
   "cell_type": "markdown",
   "id": "a514f25f",
   "metadata": {},
   "source": [
    "A common way to explore seasonality across multiple years is to use a seasonal plot which is implemented in the `statsmodels` package."
   ]
  },
  {
   "cell_type": "code",
   "execution_count": null,
   "id": "c5bf7f81",
   "metadata": {},
   "outputs": [],
   "source": [
    "from statsmodels.graphics.tsaplots import month_plot\n",
    "\n",
    "plt.figure(figsize=(15, 5))\n",
    "\n",
    "# create the seasonal plot\n",
    "month_plot(train_merged_monthly[\"target\"], ax=plt.gca())\n",
    "\n",
    "plt.title(\"The consumption or production amount\")\n",
    "sns.despine()\n",
    "plt.show()"
   ]
  },
  {
   "cell_type": "code",
   "execution_count": null,
   "id": "13e10ffe",
   "metadata": {},
   "outputs": [],
   "source": [
    "# monthly average\n",
    "monthly_mean = train_merged_monthly.groupby(train_merged_monthly.index.month_name()).mean()\n",
    "monthly_mean\n",
    "month_order = ['January', 'February', 'March', 'April', 'May', 'June', 'July', 'August', 'September', 'October', 'November', 'December']\n",
    "monthly_mean_sorted = monthly_mean.reindex(month_order, level=0)\n",
    "monthly_mean_sorted\n",
    "\n",
    "# relative deviation from the overall mean\n",
    "monthly_mean_sorted_diff = (monthly_mean_sorted - monthly_mean_sorted.mean())/monthly_mean_sorted\n",
    "\n",
    "# month names in right order\n",
    "month_names = pd.date_range(start='2021-01', freq='M', periods=12).month_name()\n",
    "\n",
    "# reorder columns to follow the month order\n",
    "monthly_mean_sorted_diff = monthly_mean_sorted_diff.loc[month_names, ]\n",
    "\n",
    "monthly_mean_sorted_diff.T"
   ]
  },
  {
   "cell_type": "code",
   "execution_count": null,
   "id": "b626150a",
   "metadata": {},
   "outputs": [],
   "source": [
    "fig = px.bar(monthly_mean_sorted_diff['target'])\n",
    "\n",
    "fig.update_layout(\n",
    "    yaxis_title=\"\", \n",
    "    yaxis_tickformat = '%',\n",
    "    xaxis_title=\"\",\n",
    "    title=\"Monthly deviation from mean consumption (%)\",\n",
    "    showlegend=False,\n",
    ")\n",
    "fig.show()"
   ]
  },
  {
   "cell_type": "markdown",
   "id": "0cb8adb7",
   "metadata": {},
   "source": [
    "### Trend-Seasonal Decomposition"
   ]
  },
  {
   "cell_type": "code",
   "execution_count": null,
   "id": "ed84286c",
   "metadata": {},
   "outputs": [],
   "source": [
    "y = train_merged['target']"
   ]
  },
  {
   "cell_type": "code",
   "execution_count": null,
   "id": "2ec500f0",
   "metadata": {},
   "outputs": [],
   "source": [
    "train_size = int(len(y) * 0.8)\n",
    "train_set, test_set = y[:train_size], y[train_size:]"
   ]
  },
  {
   "cell_type": "code",
   "execution_count": null,
   "id": "6a725c5d",
   "metadata": {},
   "outputs": [],
   "source": [
    "plt.figure(figsize=(12, 8))\n",
    "plt.plot(train_set[:500], label='Original Series')\n",
    "plt.title('Original Series')"
   ]
  },
  {
   "cell_type": "code",
   "execution_count": null,
   "id": "e1ef0a23",
   "metadata": {},
   "outputs": [],
   "source": [
    "from statsmodels.tsa.seasonal import seasonal_decompose\n",
    "train_set_filtered = train_set[train_set.index <= '2023-01']\n",
    "result = seasonal_decompose(train_set_filtered, model='additive', period=12)  # Assuming seasonality is 24 hours\n",
    "trend = result.trend.dropna()\n",
    "seasonal = result.seasonal.dropna()\n",
    "residual = result.resid.dropna()\n",
    "\n",
    "plt.figure(figsize=(12, 8))\n",
    "\n",
    "plt.subplot(4, 1, 1)\n",
    "plt.plot(train_set_filtered, label='Original Series')\n",
    "plt.title('Original Series')\n",
    "\n",
    "plt.subplot(4, 1, 2)\n",
    "plt.plot(trend, label='Trend')\n",
    "plt.title('Trend Component')\n",
    "\n",
    "plt.subplot(4, 1, 3)\n",
    "plt.plot(seasonal, label='Seasonal')\n",
    "plt.title('Seasonal Component')\n",
    "\n",
    "plt.subplot(4, 1, 4)\n",
    "plt.plot(residual, label='Residuals')\n",
    "plt.title('Residual Component')\n",
    "\n",
    "plt.tight_layout()\n",
    "plt.show()"
   ]
  },
  {
   "cell_type": "code",
   "execution_count": null,
   "id": "7b62fb18",
   "metadata": {},
   "outputs": [],
   "source": [
    "from plotly.subplots import make_subplots\n",
    "import plotly.graph_objects as go\n",
    "from statsmodels.tsa.seasonal import seasonal_decompose\n",
    "\n",
    "# Assuming train_set is a DataFrame with a datetime index\n",
    "#result = seasonal_decompose(train_set, model='additive', period=12)  # Assuming seasonality is 12 months\n",
    "\n",
    "# Extracting components\n",
    "#trend = result.trend.dropna()\n",
    "#seasonal = result.seasonal.dropna()\n",
    "#residual = result.resid.dropna()\n",
    "\n",
    "# Filtering datetime index\n",
    "#train_set_filtered = train_set[train_set.index <= '2022-11']\n",
    "\n",
    "# Creating subplots\n",
    "#fig = make_subplots(rows=4, cols=1, subplot_titles=['Original Series', 'Trend Component', 'Seasonal Component', 'Residual Component'])\n",
    "\n",
    "# Original Series\n",
    "#fig.add_trace(go.Scatter(x=train_set_filtered.index, y=train_set_filtered, mode='lines', name='Original Series'), row=1, col=1)\n",
    "\n",
    "# Trend Component\n",
    "#fig.add_trace(go.Scatter(x=trend.index, y=trend, mode='lines', name='Trend'), row=2, col=1)\n",
    "\n",
    "# Seasonal Component\n",
    "#fig.add_trace(go.Scatter(x=seasonal.index, y=seasonal, mode='lines', name='Seasonal'), row=3, col=1)\n",
    "\n",
    "# Residual Component\n",
    "#fig.add_trace(go.Scatter(x=residual.index, y=residual, mode='lines', name='Residuals'), row=4, col=1)\n",
    "\n",
    "# Update layout\n",
    "#fig.update_layout(height=800, width=1200, showlegend=False, title_text=\"Time Series Decomposition\")\n",
    "\n",
    "# Show the figure\n",
    "#fig.show()\n"
   ]
  },
  {
   "cell_type": "code",
   "execution_count": null,
   "id": "6b53476c",
   "metadata": {},
   "outputs": [],
   "source": [
    "# Import necessary libraries\n",
    "import pandas as pd\n",
    "import numpy as np\n",
    "import statsmodels.api as sm\n",
    "import matplotlib.pyplot as plt\n",
    "\n",
    "# Set the datetime column as the index\n",
    "#train_merged.set_index('datetime', inplace=True)\n",
    "\n",
    "# Check for missing values\n",
    "#print(train_merged.isnull().sum())\n",
    "\n",
    "# Fill or interpolate missing values\n",
    "#train_merged = train_merged.interpolate(method='linear', limit_direction='both')\n",
    "\n",
    "# Decompose the time series to understand trend, seasonality, and residuals\n",
    "#decomposition = sm.tsa.seasonal_decompose(train_merged['target'], model='additive')\n",
    "#fig = decomposition.plot()\n",
    "#plt.show()\n",
    "\n",
    "# Check for stationarity using Augmented Dickey-Fuller test\n",
    "#result = sm.tsa.adfuller(train_merged['target'])\n",
    "#print('ADF Statistic:', result[0])\n",
    "#print('p-value:', result[1])\n",
    "\n",
    "# If not stationary, apply differencing\n",
    "#train_merged_diff = train_merged.diff().dropna()\n",
    "\n",
    "# Perform Granger Causality test to identify causal relationships\n",
    "#max_lag = 10\n",
    "#granger_matrix = pd.DataFrame(index=train_merged.columns, columns=train_merged.columns)\n",
    "\n",
    "#for column in train_merged.columns:\n",
    "    #for lag in range(1, max_lag+1):\n",
    "        #data = pd.concat([train_merged[['target', column]], train_merged[[column]].shift(lag)], axis=1).dropna()\n",
    "        #result = sm.tsa.stattools.grangercausalitytests(data, max_lag, verbose=False)\n",
    "        #p_value = result[lag][0]['ssr_ftest'][1]\n",
    "        #granger_matrix.at[column, f'{column}_lag{lag}'] = p_value\n",
    "\n",
    "# Visualize Granger Causality matrix\n",
    "#plt.figure(figsize=(12, 8))\n",
    "#plt.imshow(np.log10(granger_matrix.astype(float)), cmap='viridis', interpolation='nearest')\n",
    "#plt.colorbar()\n",
    "#plt.title('Granger Causality Matrix (log10 p-values)')\n",
    "#plt.xticks(range(len(train_merged.columns)), train_merged.columns, rotation=90)\n",
    "#plt.yticks(range(len(train_merged.columns)), train_merged.columns)\n",
    "#plt.show()\n",
    "\n",
    "# Build a VAR (Vector AutoRegressive) model\n",
    "#model = sm.tsa.VAR(train_merged_diff)\n",
    "#order = model.select_order(maxlags=15)\n",
    "#print('Recommended VAR order:', order.selected_orders)\n",
    "\n",
    "# Fit VAR model with the recommended order\n",
    "#var_model = model.fit(maxlags=order.selected_orders['aic'])\n",
    "\n",
    "# Forecast future values\n",
    "#forecast_steps = 10\n",
    "#forecast = var_model.forecast(train_merged_diff.values[-order.selected_orders['aic']:], steps=forecast_steps)\n",
    "#forecast_index = pd.date_range(train_merged.index[-1], periods=forecast_steps+1, freq='H')[1:]\n",
    "\n",
    "# Convert forecast array to DataFrame\n",
    "#forecast_df = pd.DataFrame(forecast, columns=train_merged.columns)\n",
    "\n",
    "# Invert differencing to obtain actual forecast values\n",
    "#forecast_df = train_merged.iloc[-1] + forecast_df.cumsum()\n",
    "\n",
    "# Plot the results\n",
    "#plt.figure(figsize=(12, 6))\n",
    "#plt.plot(train_merged['target'], label='Actual')\n",
    "#plt.plot(forecast_index, forecast_df['target'], label='Forecast', linestyle='dashed')\n",
    "#plt.legend()\n",
    "#plt.title('VAR Model Forecast')\n",
    "#plt.show()\n"
   ]
  },
  {
   "cell_type": "code",
   "execution_count": null,
   "id": "722a784f",
   "metadata": {},
   "outputs": [],
   "source": [
    "\n",
    "\n",
    "# Decompose the time series to understand trend, seasonality, and residuals\n",
    "decomposition = sm.tsa.seasonal_decompose(train_set_filtered, model='additive', period=24)\n",
    "fig = decomposition.plot()\n",
    "plt.show()\n"
   ]
  },
  {
   "cell_type": "code",
   "execution_count": null,
   "id": "35a66f67",
   "metadata": {},
   "outputs": [],
   "source": [
    "from statsmodels.tsa.stattools import adfuller\n",
    "subset_data = train_set.head(1000)\n",
    "# Assuming 'train_set' is your time series data\n",
    "result_adf = adfuller(train_set)\n",
    "print(f'ADF Statistic: {result_adf[0]}')\n",
    "print(f'p-value: {result_adf[1]}')\n",
    "print('Critical Values:')\n",
    "for key, value in result_adf[4].items():\n",
    "    print(f'   {key}: {value}')\n"
   ]
  },
  {
   "cell_type": "code",
   "execution_count": null,
   "id": "f3d940d1",
   "metadata": {},
   "outputs": [],
   "source": [
    "train_set.shape"
   ]
  },
  {
   "cell_type": "code",
   "execution_count": null,
   "id": "4c64f4ef",
   "metadata": {},
   "outputs": [],
   "source": []
  }
 ],
 "metadata": {
  "kernelspec": {
   "display_name": "Python 3 (ipykernel)",
   "language": "python",
   "name": "python3"
  },
  "language_info": {
   "codemirror_mode": {
    "name": "ipython",
    "version": 3
   },
   "file_extension": ".py",
   "mimetype": "text/x-python",
   "name": "python",
   "nbconvert_exporter": "python",
   "pygments_lexer": "ipython3",
   "version": "3.11.5"
  }
 },
 "nbformat": 4,
 "nbformat_minor": 5
}
